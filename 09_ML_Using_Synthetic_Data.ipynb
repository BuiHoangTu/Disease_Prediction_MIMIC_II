{
 "cells": [
  {
   "cell_type": "code",
   "execution_count": 3,
   "id": "20263205",
   "metadata": {},
   "outputs": [],
   "source": [
    "import pandas as pd"
   ]
  },
  {
   "cell_type": "code",
   "execution_count": 2,
   "id": "58689863",
   "metadata": {},
   "outputs": [
    {
     "data": {
      "text/html": [
       "<div>\n",
       "<style scoped>\n",
       "    .dataframe tbody tr th:only-of-type {\n",
       "        vertical-align: middle;\n",
       "    }\n",
       "\n",
       "    .dataframe tbody tr th {\n",
       "        vertical-align: top;\n",
       "    }\n",
       "\n",
       "    .dataframe thead th {\n",
       "        text-align: right;\n",
       "    }\n",
       "</style>\n",
       "<table border=\"1\" class=\"dataframe\">\n",
       "  <thead>\n",
       "    <tr style=\"text-align: right;\">\n",
       "      <th></th>\n",
       "      <th>sex</th>\n",
       "      <th>age_at_adm</th>\n",
       "      <th>category</th>\n",
       "      <th>Pulse_BPM</th>\n",
       "      <th>Resp_Rate_BPM</th>\n",
       "      <th>Temp_F</th>\n",
       "      <th>Sys_BP_mmHg</th>\n",
       "      <th>Dia_BP_mmHg</th>\n",
       "    </tr>\n",
       "  </thead>\n",
       "  <tbody>\n",
       "    <tr>\n",
       "      <th>0</th>\n",
       "      <td>1</td>\n",
       "      <td>76.0</td>\n",
       "      <td>5</td>\n",
       "      <td>80.387129</td>\n",
       "      <td>29.230622</td>\n",
       "      <td>94.689829</td>\n",
       "      <td>141.387354</td>\n",
       "      <td>38.711734</td>\n",
       "    </tr>\n",
       "    <tr>\n",
       "      <th>1</th>\n",
       "      <td>1</td>\n",
       "      <td>76.0</td>\n",
       "      <td>7</td>\n",
       "      <td>71.754523</td>\n",
       "      <td>-0.933412</td>\n",
       "      <td>92.819280</td>\n",
       "      <td>165.547790</td>\n",
       "      <td>68.567287</td>\n",
       "    </tr>\n",
       "    <tr>\n",
       "      <th>2</th>\n",
       "      <td>1</td>\n",
       "      <td>102.0</td>\n",
       "      <td>5</td>\n",
       "      <td>126.699856</td>\n",
       "      <td>4.847785</td>\n",
       "      <td>100.101327</td>\n",
       "      <td>120.283135</td>\n",
       "      <td>55.474092</td>\n",
       "    </tr>\n",
       "    <tr>\n",
       "      <th>3</th>\n",
       "      <td>1</td>\n",
       "      <td>79.0</td>\n",
       "      <td>2</td>\n",
       "      <td>65.671250</td>\n",
       "      <td>25.887425</td>\n",
       "      <td>96.749888</td>\n",
       "      <td>98.077591</td>\n",
       "      <td>31.174128</td>\n",
       "    </tr>\n",
       "    <tr>\n",
       "      <th>4</th>\n",
       "      <td>1</td>\n",
       "      <td>76.0</td>\n",
       "      <td>0</td>\n",
       "      <td>74.888688</td>\n",
       "      <td>18.285614</td>\n",
       "      <td>96.411687</td>\n",
       "      <td>148.664657</td>\n",
       "      <td>64.783559</td>\n",
       "    </tr>\n",
       "  </tbody>\n",
       "</table>\n",
       "</div>"
      ],
      "text/plain": [
       "   sex  age_at_adm  category   Pulse_BPM  Resp_Rate_BPM      Temp_F  \\\n",
       "0    1        76.0         5   80.387129      29.230622   94.689829   \n",
       "1    1        76.0         7   71.754523      -0.933412   92.819280   \n",
       "2    1       102.0         5  126.699856       4.847785  100.101327   \n",
       "3    1        79.0         2   65.671250      25.887425   96.749888   \n",
       "4    1        76.0         0   74.888688      18.285614   96.411687   \n",
       "\n",
       "   Sys_BP_mmHg  Dia_BP_mmHg  \n",
       "0   141.387354    38.711734  \n",
       "1   165.547790    68.567287  \n",
       "2   120.283135    55.474092  \n",
       "3    98.077591    31.174128  \n",
       "4   148.664657    64.783559  "
      ]
     },
     "execution_count": 2,
     "metadata": {},
     "output_type": "execute_result"
    }
   ],
   "source": [
    "data_synthetic = pd.read_csv(\"Synthetic_data_v2.csv\")\n",
    "data_synthetic.head(5)"
   ]
  },
  {
   "cell_type": "code",
   "execution_count": 3,
   "id": "33e8cee6",
   "metadata": {},
   "outputs": [
    {
     "data": {
      "text/plain": [
       "Index(['sex', 'age_at_adm', 'category', 'Pulse_BPM', 'Resp_Rate_BPM', 'Temp_F',\n",
       "       'Sys_BP_mmHg', 'Dia_BP_mmHg'],\n",
       "      dtype='object')"
      ]
     },
     "execution_count": 3,
     "metadata": {},
     "output_type": "execute_result"
    }
   ],
   "source": [
    "data_synthetic.columns"
   ]
  },
  {
   "cell_type": "code",
   "execution_count": 4,
   "id": "9a6c2843",
   "metadata": {},
   "outputs": [],
   "source": [
    "# Checking for Imbalance Data"
   ]
  },
  {
   "cell_type": "code",
   "execution_count": 5,
   "id": "baccfe7e",
   "metadata": {},
   "outputs": [
    {
     "data": {
      "text/plain": [
       "0    2105\n",
       "1    1875\n",
       "5    1441\n",
       "6     931\n",
       "3     883\n",
       "2     857\n",
       "7     654\n",
       "4     633\n",
       "8     429\n",
       "9     192\n",
       "Name: category, dtype: int64"
      ]
     },
     "execution_count": 5,
     "metadata": {},
     "output_type": "execute_result"
    }
   ],
   "source": [
    "data_synthetic[\"category\"].value_counts()"
   ]
  },
  {
   "cell_type": "code",
   "execution_count": 6,
   "id": "f8543870",
   "metadata": {},
   "outputs": [],
   "source": [
    "# We have Imbalance classes, so we will upsample using SMOTE"
   ]
  },
  {
   "cell_type": "code",
   "execution_count": 7,
   "id": "84ccc527",
   "metadata": {},
   "outputs": [],
   "source": [
    "X = data_synthetic.drop(\"category\", axis = 1)\n",
    "y = data_synthetic[\"category\"]"
   ]
  },
  {
   "cell_type": "code",
   "execution_count": 8,
   "id": "d86e9d79",
   "metadata": {},
   "outputs": [],
   "source": [
    "from imblearn.over_sampling import RandomOverSampler\n",
    "\n",
    "ros = RandomOverSampler(random_state=2022)\n",
    "\n",
    "X_resampled, y_resampled = ros.fit_resample(X, y)"
   ]
  },
  {
   "cell_type": "code",
   "execution_count": 9,
   "id": "90f0ad1a",
   "metadata": {},
   "outputs": [
    {
     "data": {
      "text/html": [
       "<div>\n",
       "<style scoped>\n",
       "    .dataframe tbody tr th:only-of-type {\n",
       "        vertical-align: middle;\n",
       "    }\n",
       "\n",
       "    .dataframe tbody tr th {\n",
       "        vertical-align: top;\n",
       "    }\n",
       "\n",
       "    .dataframe thead th {\n",
       "        text-align: right;\n",
       "    }\n",
       "</style>\n",
       "<table border=\"1\" class=\"dataframe\">\n",
       "  <thead>\n",
       "    <tr style=\"text-align: right;\">\n",
       "      <th></th>\n",
       "      <th>sex</th>\n",
       "      <th>age_at_adm</th>\n",
       "      <th>Pulse_BPM</th>\n",
       "      <th>Resp_Rate_BPM</th>\n",
       "      <th>Temp_F</th>\n",
       "      <th>Sys_BP_mmHg</th>\n",
       "      <th>Dia_BP_mmHg</th>\n",
       "      <th>category</th>\n",
       "    </tr>\n",
       "  </thead>\n",
       "  <tbody>\n",
       "    <tr>\n",
       "      <th>0</th>\n",
       "      <td>1</td>\n",
       "      <td>76.0</td>\n",
       "      <td>80.387129</td>\n",
       "      <td>29.230622</td>\n",
       "      <td>94.689829</td>\n",
       "      <td>141.387354</td>\n",
       "      <td>38.711734</td>\n",
       "      <td>5</td>\n",
       "    </tr>\n",
       "    <tr>\n",
       "      <th>1</th>\n",
       "      <td>1</td>\n",
       "      <td>76.0</td>\n",
       "      <td>71.754523</td>\n",
       "      <td>-0.933412</td>\n",
       "      <td>92.819280</td>\n",
       "      <td>165.547790</td>\n",
       "      <td>68.567287</td>\n",
       "      <td>7</td>\n",
       "    </tr>\n",
       "    <tr>\n",
       "      <th>2</th>\n",
       "      <td>1</td>\n",
       "      <td>102.0</td>\n",
       "      <td>126.699856</td>\n",
       "      <td>4.847785</td>\n",
       "      <td>100.101327</td>\n",
       "      <td>120.283135</td>\n",
       "      <td>55.474092</td>\n",
       "      <td>5</td>\n",
       "    </tr>\n",
       "    <tr>\n",
       "      <th>3</th>\n",
       "      <td>1</td>\n",
       "      <td>79.0</td>\n",
       "      <td>65.671250</td>\n",
       "      <td>25.887425</td>\n",
       "      <td>96.749888</td>\n",
       "      <td>98.077591</td>\n",
       "      <td>31.174128</td>\n",
       "      <td>2</td>\n",
       "    </tr>\n",
       "    <tr>\n",
       "      <th>4</th>\n",
       "      <td>1</td>\n",
       "      <td>76.0</td>\n",
       "      <td>74.888688</td>\n",
       "      <td>18.285614</td>\n",
       "      <td>96.411687</td>\n",
       "      <td>148.664657</td>\n",
       "      <td>64.783559</td>\n",
       "      <td>0</td>\n",
       "    </tr>\n",
       "  </tbody>\n",
       "</table>\n",
       "</div>"
      ],
      "text/plain": [
       "   sex  age_at_adm   Pulse_BPM  Resp_Rate_BPM      Temp_F  Sys_BP_mmHg  \\\n",
       "0    1        76.0   80.387129      29.230622   94.689829   141.387354   \n",
       "1    1        76.0   71.754523      -0.933412   92.819280   165.547790   \n",
       "2    1       102.0  126.699856       4.847785  100.101327   120.283135   \n",
       "3    1        79.0   65.671250      25.887425   96.749888    98.077591   \n",
       "4    1        76.0   74.888688      18.285614   96.411687   148.664657   \n",
       "\n",
       "   Dia_BP_mmHg  category  \n",
       "0    38.711734         5  \n",
       "1    68.567287         7  \n",
       "2    55.474092         5  \n",
       "3    31.174128         2  \n",
       "4    64.783559         0  "
      ]
     },
     "execution_count": 9,
     "metadata": {},
     "output_type": "execute_result"
    }
   ],
   "source": [
    "up_data_syn = pd.concat([X_resampled, pd.Series(y_resampled)], axis =1)\n",
    "up_data_syn.head(5)"
   ]
  },
  {
   "cell_type": "code",
   "execution_count": 11,
   "id": "b1b382da",
   "metadata": {},
   "outputs": [],
   "source": [
    "up_data_syn.to_csv(\"upscaled_synthetic_data.csv\", index = False)"
   ]
  },
  {
   "cell_type": "code",
   "execution_count": 11,
   "id": "fb0a7857",
   "metadata": {},
   "outputs": [
    {
     "data": {
      "text/plain": [
       "5    2105\n",
       "7    2105\n",
       "2    2105\n",
       "0    2105\n",
       "1    2105\n",
       "8    2105\n",
       "3    2105\n",
       "9    2105\n",
       "4    2105\n",
       "6    2105\n",
       "Name: category, dtype: int64"
      ]
     },
     "execution_count": 11,
     "metadata": {},
     "output_type": "execute_result"
    }
   ],
   "source": [
    "up_data_syn[\"category\"].value_counts()"
   ]
  },
  {
   "cell_type": "code",
   "execution_count": 12,
   "id": "37f60e1f",
   "metadata": {},
   "outputs": [],
   "source": [
    "# Now we will apply various Classification Algorithms"
   ]
  },
  {
   "cell_type": "code",
   "execution_count": 13,
   "id": "bcb856ed",
   "metadata": {},
   "outputs": [],
   "source": [
    "from sklearn.model_selection import train_test_split\n",
    "\n",
    "from sklearn.ensemble import RandomForestClassifier\n",
    "from sklearn.linear_model import LogisticRegression\n",
    "from sklearn.neighbors import KNeighborsClassifier\n",
    "from sklearn.svm import SVC\n",
    "from sklearn.tree import DecisionTreeClassifier\n",
    "from sklearn.ensemble import GradientBoostingClassifier\n",
    "from sklearn.naive_bayes import GaussianNB\n",
    "\n",
    "from sklearn.metrics import confusion_matrix, classification_report, accuracy_score\n",
    "\n",
    "from sklearn.preprocessing import StandardScaler\n",
    "sc = StandardScaler()"
   ]
  },
  {
   "cell_type": "code",
   "execution_count": 14,
   "id": "8dded9cb",
   "metadata": {},
   "outputs": [],
   "source": [
    "# Splitting Data into Train_set and Test_set"
   ]
  },
  {
   "cell_type": "code",
   "execution_count": 16,
   "id": "2a0f50d5",
   "metadata": {},
   "outputs": [],
   "source": [
    "train_set, test_set = train_test_split(up_data_syn, test_size = 0.1, random_state = 2022, stratify = up_data_syn[\"category\"])"
   ]
  },
  {
   "cell_type": "code",
   "execution_count": null,
   "id": "4d870658",
   "metadata": {},
   "outputs": [],
   "source": []
  },
  {
   "cell_type": "code",
   "execution_count": 17,
   "id": "7f86643a",
   "metadata": {},
   "outputs": [],
   "source": [
    "models = [RandomForestClassifier(),\n",
    "         LogisticRegression(),\n",
    "         KNeighborsClassifier(),\n",
    "         SVC(),\n",
    "         DecisionTreeClassifier(),\n",
    "         GaussianNB(),\n",
    "         GradientBoostingClassifier()]"
   ]
  },
  {
   "cell_type": "code",
   "execution_count": 18,
   "id": "be9c3967",
   "metadata": {},
   "outputs": [],
   "source": [
    "# Separating x variables from Train_set\n",
    "x = train_set.drop('category', axis = 1)\n",
    "\n",
    "# Seaparting y variable from Train_set\n",
    "y = train_set['category']\n",
    "\n",
    "# Creating Training and Validation data sets\n",
    "x_train, x_val, y_train, y_val = train_test_split(x, y, test_size=0.1, random_state = 2022)\n",
    "\n",
    "# Scaling x variables of Train and Validation sets\n",
    "x_train_scaled = sc.fit_transform(x_train)\n",
    "x_val_scaled = sc.transform(x_val)\n",
    "\n",
    "# Separating x variables from Test_set \n",
    "x1 = test_set.drop('category', axis = 1)\n",
    "\n",
    "# Scaling x Varaibles from Test_set\n",
    "x1_scaled = sc.transform(x1)\n",
    "\n",
    "# Seaparting y variable from Train_set\n",
    "y1 = test_set['category']\n",
    "\n",
    "\n",
    "fr = []\n",
    "\n",
    "for i in models:\n",
    "    \n",
    "    # Training\n",
    "    model = i\n",
    "    model.fit(x_train_scaled, y_train)\n",
    "    pr_train = model.predict(x_train_scaled)\n",
    "    act_train = y_train\n",
    "    \n",
    "    training_score = accuracy_score(act_train, pr_train)\n",
    "    \n",
    "    \n",
    "    # Validation\n",
    "    pr_val = model.predict(x_val_scaled)\n",
    "    act_val = y_val\n",
    "    \n",
    "    val_score = accuracy_score(act_val, pr_val)\n",
    "    \n",
    "    \n",
    "    # Testing\n",
    "    pr_test = model.predict(x1_scaled)\n",
    "    act_test = y1\n",
    "    \n",
    "    test_score = accuracy_score(act_test, pr_test)\n",
    "    \n",
    "    dict1 = {\n",
    "        \"model\": type(model).__name__,\n",
    "        \"Training_score\": training_score,\n",
    "        \"Validation_score\": val_score,\n",
    "        \"Testing_score\": test_score\n",
    "    }\n",
    "    \n",
    "    fr.append(dict1)"
   ]
  },
  {
   "cell_type": "code",
   "execution_count": 30,
   "id": "f4460e98",
   "metadata": {},
   "outputs": [],
   "source": [
    "initial_results_syn = pd.DataFrame(fr)\n",
    "initial_results_syn.set_index(\"model\", inplace = True)"
   ]
  },
  {
   "cell_type": "code",
   "execution_count": 20,
   "id": "a5b8ab1a",
   "metadata": {},
   "outputs": [
    {
     "data": {
      "text/html": [
       "<div>\n",
       "<style scoped>\n",
       "    .dataframe tbody tr th:only-of-type {\n",
       "        vertical-align: middle;\n",
       "    }\n",
       "\n",
       "    .dataframe tbody tr th {\n",
       "        vertical-align: top;\n",
       "    }\n",
       "\n",
       "    .dataframe thead th {\n",
       "        text-align: right;\n",
       "    }\n",
       "</style>\n",
       "<table border=\"1\" class=\"dataframe\">\n",
       "  <thead>\n",
       "    <tr style=\"text-align: right;\">\n",
       "      <th></th>\n",
       "      <th>Training_score</th>\n",
       "      <th>Validation_score</th>\n",
       "      <th>Testing_score</th>\n",
       "    </tr>\n",
       "    <tr>\n",
       "      <th>model</th>\n",
       "      <th></th>\n",
       "      <th></th>\n",
       "      <th></th>\n",
       "    </tr>\n",
       "  </thead>\n",
       "  <tbody>\n",
       "    <tr>\n",
       "      <th>RandomForestClassifier</th>\n",
       "      <td>1.000000</td>\n",
       "      <td>0.812137</td>\n",
       "      <td>0.808551</td>\n",
       "    </tr>\n",
       "    <tr>\n",
       "      <th>LogisticRegression</th>\n",
       "      <td>0.194194</td>\n",
       "      <td>0.207916</td>\n",
       "      <td>0.198100</td>\n",
       "    </tr>\n",
       "    <tr>\n",
       "      <th>KNeighborsClassifier</th>\n",
       "      <td>0.687507</td>\n",
       "      <td>0.515567</td>\n",
       "      <td>0.492637</td>\n",
       "    </tr>\n",
       "    <tr>\n",
       "      <th>SVC</th>\n",
       "      <td>0.302111</td>\n",
       "      <td>0.287071</td>\n",
       "      <td>0.270309</td>\n",
       "    </tr>\n",
       "    <tr>\n",
       "      <th>DecisionTreeClassifier</th>\n",
       "      <td>1.000000</td>\n",
       "      <td>0.777309</td>\n",
       "      <td>0.779572</td>\n",
       "    </tr>\n",
       "    <tr>\n",
       "      <th>GaussianNB</th>\n",
       "      <td>0.197830</td>\n",
       "      <td>0.212665</td>\n",
       "      <td>0.195249</td>\n",
       "    </tr>\n",
       "    <tr>\n",
       "      <th>GradientBoostingClassifier</th>\n",
       "      <td>0.488211</td>\n",
       "      <td>0.419525</td>\n",
       "      <td>0.398100</td>\n",
       "    </tr>\n",
       "  </tbody>\n",
       "</table>\n",
       "</div>"
      ],
      "text/plain": [
       "                            Training_score  Validation_score  Testing_score\n",
       "model                                                                      \n",
       "RandomForestClassifier            1.000000          0.812137       0.808551\n",
       "LogisticRegression                0.194194          0.207916       0.198100\n",
       "KNeighborsClassifier              0.687507          0.515567       0.492637\n",
       "SVC                               0.302111          0.287071       0.270309\n",
       "DecisionTreeClassifier            1.000000          0.777309       0.779572\n",
       "GaussianNB                        0.197830          0.212665       0.195249\n",
       "GradientBoostingClassifier        0.488211          0.419525       0.398100"
      ]
     },
     "execution_count": 20,
     "metadata": {},
     "output_type": "execute_result"
    }
   ],
   "source": [
    "initial_results_syn"
   ]
  },
  {
   "cell_type": "code",
   "execution_count": 32,
   "id": "508c978f",
   "metadata": {},
   "outputs": [
    {
     "data": {
      "text/html": [
       "<div>\n",
       "<style scoped>\n",
       "    .dataframe tbody tr th:only-of-type {\n",
       "        vertical-align: middle;\n",
       "    }\n",
       "\n",
       "    .dataframe tbody tr th {\n",
       "        vertical-align: top;\n",
       "    }\n",
       "\n",
       "    .dataframe thead th {\n",
       "        text-align: right;\n",
       "    }\n",
       "</style>\n",
       "<table border=\"1\" class=\"dataframe\">\n",
       "  <thead>\n",
       "    <tr style=\"text-align: right;\">\n",
       "      <th></th>\n",
       "      <th>Training_score</th>\n",
       "      <th>Validation_score</th>\n",
       "      <th>Testing_score</th>\n",
       "    </tr>\n",
       "    <tr>\n",
       "      <th>model</th>\n",
       "      <th></th>\n",
       "      <th></th>\n",
       "      <th></th>\n",
       "    </tr>\n",
       "  </thead>\n",
       "  <tbody>\n",
       "    <tr>\n",
       "      <th>RandomForestClassifier</th>\n",
       "      <td>1.000000</td>\n",
       "      <td>0.570755</td>\n",
       "      <td>0.636943</td>\n",
       "    </tr>\n",
       "    <tr>\n",
       "      <th>LogisticRegression</th>\n",
       "      <td>0.198689</td>\n",
       "      <td>0.183962</td>\n",
       "      <td>0.174098</td>\n",
       "    </tr>\n",
       "    <tr>\n",
       "      <th>KNeighborsClassifier</th>\n",
       "      <td>0.564613</td>\n",
       "      <td>0.372642</td>\n",
       "      <td>0.354565</td>\n",
       "    </tr>\n",
       "    <tr>\n",
       "      <th>SVC</th>\n",
       "      <td>0.372739</td>\n",
       "      <td>0.278302</td>\n",
       "      <td>0.278132</td>\n",
       "    </tr>\n",
       "    <tr>\n",
       "      <th>DecisionTreeClassifier</th>\n",
       "      <td>1.000000</td>\n",
       "      <td>0.528302</td>\n",
       "      <td>0.628450</td>\n",
       "    </tr>\n",
       "    <tr>\n",
       "      <th>GaussianNB</th>\n",
       "      <td>0.210223</td>\n",
       "      <td>0.169811</td>\n",
       "      <td>0.199575</td>\n",
       "    </tr>\n",
       "    <tr>\n",
       "      <th>GradientBoostingClassifier</th>\n",
       "      <td>0.605767</td>\n",
       "      <td>0.408019</td>\n",
       "      <td>0.401274</td>\n",
       "    </tr>\n",
       "  </tbody>\n",
       "</table>\n",
       "</div>"
      ],
      "text/plain": [
       "                            Training_score  Validation_score  Testing_score\n",
       "model                                                                      \n",
       "RandomForestClassifier            1.000000          0.570755       0.636943\n",
       "LogisticRegression                0.198689          0.183962       0.174098\n",
       "KNeighborsClassifier              0.564613          0.372642       0.354565\n",
       "SVC                               0.372739          0.278302       0.278132\n",
       "DecisionTreeClassifier            1.000000          0.528302       0.628450\n",
       "GaussianNB                        0.210223          0.169811       0.199575\n",
       "GradientBoostingClassifier        0.605767          0.408019       0.401274"
      ]
     },
     "execution_count": 32,
     "metadata": {},
     "output_type": "execute_result"
    }
   ],
   "source": [
    "initial_results"
   ]
  },
  {
   "cell_type": "code",
   "execution_count": 1,
   "id": "09603b12",
   "metadata": {},
   "outputs": [],
   "source": [
    "initial_results_syn.to_csv(\"ML_results_on_Synthetic_data.csv\")"
   ]
  },
  {
   "cell_type": "code",
   "execution_count": 4,
   "id": "504f4f8f",
   "metadata": {},
   "outputs": [],
   "source": [
    "initial_results_syn = pd.read_csv(\"ML_results_on_Synthetic_data.csv\", index_col = \"model\")"
   ]
  },
  {
   "cell_type": "code",
   "execution_count": 5,
   "id": "28d26a93",
   "metadata": {},
   "outputs": [],
   "source": [
    "# initial_results.to_csv(\"ML_results_on_Orginal_data.csv\")"
   ]
  },
  {
   "cell_type": "code",
   "execution_count": 6,
   "id": "99d5d845",
   "metadata": {},
   "outputs": [],
   "source": [
    "import seaborn as sns\n",
    "import matplotlib.pyplot as plt"
   ]
  },
  {
   "cell_type": "code",
   "execution_count": 10,
   "id": "0063b84c",
   "metadata": {},
   "outputs": [
    {
     "data": {
      "image/png": "[encoded data removed]",
      "text/plain": [
       "<Figure size 720x576 with 1 Axes>"
      ]
     },
     "metadata": {
      "needs_background": "light"
     },
     "output_type": "display_data"
    }
   ],
   "source": [
    "# Plotting ML Results\n",
    "ax = initial_results_syn.plot(kind='barh', rot=0, xlabel='Model', \n",
    "                          ylabel='Accuracy',\n",
    "                          title='Machine Learning Results on Synthetic Data', figsize=(10, 8),\n",
    "                          colormap = 'Paired')\n",
    "\n",
    "# add some labels\n",
    "for c in ax.containers:\n",
    "    # set the bar label\n",
    "    ax.bar_label(c, fmt='%.2f', label_type='edge')\n",
    "    \n",
    "# add a little space at the top of the plot for the annotation\n",
    "ax.margins(y=0.1)\n",
    "\n",
    "plt.xlabel(\"Accuracy\")\n",
    "\n",
    "# move the legend out of the plot\n",
    "ax.legend(title='Scores', bbox_to_anchor=(1, 1.02), loc='upper left')\n",
    "\n",
    "plt.savefig(\"ML_results_on_Synthetic_data.jpeg\", bbox_inches = \"tight\")"
   ]
  },
  {
   "cell_type": "markdown",
   "id": "193e1a13",
   "metadata": {},
   "source": [
    "Hence, it is proved that providing more data to same Algorithms, yielded better accuraices.\n",
    "\n",
    "Since RF was better among all, we will now work on RF"
   ]
  }
 ],
 "metadata": {
  "kernelspec": {
   "display_name": "Python 3 (ipykernel)",
   "language": "python",
   "name": "python3"
  },
  "language_info": {
   "codemirror_mode": {
    "name": "ipython",
    "version": 3
   },
   "file_extension": ".py",
   "mimetype": "text/x-python",
   "name": "python",
   "nbconvert_exporter": "python",
   "pygments_lexer": "ipython3",
   "version": "3.9.12"
  }
 },
 "nbformat": 4,
 "nbformat_minor": 5
}
