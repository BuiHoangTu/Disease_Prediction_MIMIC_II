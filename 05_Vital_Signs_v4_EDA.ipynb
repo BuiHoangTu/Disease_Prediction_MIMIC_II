{
 "cells": [
  {
   "cell_type": "code",
   "execution_count": 1,
   "id": "735f1d92",
   "metadata": {},
   "outputs": [],
   "source": [
    "import pandas as pd"
   ]
  },
  {
   "cell_type": "code",
   "execution_count": 2,
   "id": "e218e364",
   "metadata": {},
   "outputs": [],
   "source": [
    "v4 = pd.read_csv(\"Vital_signs_4.csv\")"
   ]
  },
  {
   "cell_type": "code",
   "execution_count": 3,
   "id": "92656a09",
   "metadata": {},
   "outputs": [
    {
     "data": {
      "text/html": [
       "<div>\n",
       "<style scoped>\n",
       "    .dataframe tbody tr th:only-of-type {\n",
       "        vertical-align: middle;\n",
       "    }\n",
       "\n",
       "    .dataframe tbody tr th {\n",
       "        vertical-align: top;\n",
       "    }\n",
       "\n",
       "    .dataframe thead th {\n",
       "        text-align: right;\n",
       "    }\n",
       "</style>\n",
       "<table border=\"1\" class=\"dataframe\">\n",
       "  <thead>\n",
       "    <tr style=\"text-align: right;\">\n",
       "      <th></th>\n",
       "      <th>subject_id</th>\n",
       "      <th>icustay_id</th>\n",
       "      <th>Pulse_BPM</th>\n",
       "      <th>Resp_Rate_BPM</th>\n",
       "      <th>Temp_F</th>\n",
       "      <th>Sys_BP_mmHg</th>\n",
       "      <th>Dia_BP_mmHg</th>\n",
       "    </tr>\n",
       "  </thead>\n",
       "  <tbody>\n",
       "    <tr>\n",
       "      <th>count</th>\n",
       "      <td>3471.000000</td>\n",
       "      <td>3454.000000</td>\n",
       "      <td>3470.000000</td>\n",
       "      <td>3468.000000</td>\n",
       "      <td>3431.000000</td>\n",
       "      <td>3360.000000</td>\n",
       "      <td>3360.000000</td>\n",
       "    </tr>\n",
       "    <tr>\n",
       "      <th>mean</th>\n",
       "      <td>14342.510228</td>\n",
       "      <td>18401.690793</td>\n",
       "      <td>88.668876</td>\n",
       "      <td>19.331892</td>\n",
       "      <td>97.753955</td>\n",
       "      <td>122.372321</td>\n",
       "      <td>59.619643</td>\n",
       "    </tr>\n",
       "    <tr>\n",
       "      <th>std</th>\n",
       "      <td>8427.369037</td>\n",
       "      <td>11442.089960</td>\n",
       "      <td>21.211182</td>\n",
       "      <td>6.757939</td>\n",
       "      <td>4.906014</td>\n",
       "      <td>33.851757</td>\n",
       "      <td>17.717608</td>\n",
       "    </tr>\n",
       "    <tr>\n",
       "      <th>min</th>\n",
       "      <td>3.000000</td>\n",
       "      <td>4.000000</td>\n",
       "      <td>29.000000</td>\n",
       "      <td>0.000000</td>\n",
       "      <td>0.000000</td>\n",
       "      <td>0.000000</td>\n",
       "      <td>0.000000</td>\n",
       "    </tr>\n",
       "    <tr>\n",
       "      <th>25%</th>\n",
       "      <td>7149.500000</td>\n",
       "      <td>8957.250000</td>\n",
       "      <td>74.000000</td>\n",
       "      <td>15.000000</td>\n",
       "      <td>97.000000</td>\n",
       "      <td>104.000000</td>\n",
       "      <td>50.000000</td>\n",
       "    </tr>\n",
       "    <tr>\n",
       "      <th>50%</th>\n",
       "      <td>14315.000000</td>\n",
       "      <td>17961.500000</td>\n",
       "      <td>87.000000</td>\n",
       "      <td>18.000000</td>\n",
       "      <td>98.000000</td>\n",
       "      <td>122.000000</td>\n",
       "      <td>59.000000</td>\n",
       "    </tr>\n",
       "    <tr>\n",
       "      <th>75%</th>\n",
       "      <td>21370.500000</td>\n",
       "      <td>26736.250000</td>\n",
       "      <td>102.000000</td>\n",
       "      <td>23.000000</td>\n",
       "      <td>99.099998</td>\n",
       "      <td>142.000000</td>\n",
       "      <td>70.000000</td>\n",
       "    </tr>\n",
       "    <tr>\n",
       "      <th>max</th>\n",
       "      <td>32763.000000</td>\n",
       "      <td>47473.000000</td>\n",
       "      <td>217.000000</td>\n",
       "      <td>98.000000</td>\n",
       "      <td>107.599998</td>\n",
       "      <td>237.000000</td>\n",
       "      <td>197.000000</td>\n",
       "    </tr>\n",
       "  </tbody>\n",
       "</table>\n",
       "</div>"
      ],
      "text/plain": [
       "         subject_id    icustay_id    Pulse_BPM  Resp_Rate_BPM       Temp_F  \\\n",
       "count   3471.000000   3454.000000  3470.000000    3468.000000  3431.000000   \n",
       "mean   14342.510228  18401.690793    88.668876      19.331892    97.753955   \n",
       "std     8427.369037  11442.089960    21.211182       6.757939     4.906014   \n",
       "min        3.000000      4.000000    29.000000       0.000000     0.000000   \n",
       "25%     7149.500000   8957.250000    74.000000      15.000000    97.000000   \n",
       "50%    14315.000000  17961.500000    87.000000      18.000000    98.000000   \n",
       "75%    21370.500000  26736.250000   102.000000      23.000000    99.099998   \n",
       "max    32763.000000  47473.000000   217.000000      98.000000   107.599998   \n",
       "\n",
       "       Sys_BP_mmHg  Dia_BP_mmHg  \n",
       "count  3360.000000  3360.000000  \n",
       "mean    122.372321    59.619643  \n",
       "std      33.851757    17.717608  \n",
       "min       0.000000     0.000000  \n",
       "25%     104.000000    50.000000  \n",
       "50%     122.000000    59.000000  \n",
       "75%     142.000000    70.000000  \n",
       "max     237.000000   197.000000  "
      ]
     },
     "execution_count": 3,
     "metadata": {},
     "output_type": "execute_result"
    }
   ],
   "source": [
    "v4.describe()"
   ]
  },
  {
   "cell_type": "code",
   "execution_count": 4,
   "id": "0688bdb7",
   "metadata": {},
   "outputs": [
    {
     "data": {
      "image/png": "[encoded data removed]",
      "text/plain": [
       "<Figure size 1080x1080 with 9 Axes>"
      ]
     },
     "metadata": {
      "needs_background": "light"
     },
     "output_type": "display_data"
    }
   ],
   "source": [
    "v4.hist(figsize= (15,15), bins =30);"
   ]
  },
  {
   "cell_type": "markdown",
   "id": "c7e97328",
   "metadata": {},
   "source": [
    "Data Cleaning:\n",
    "\n",
    "Temperature_F ; values of around 35 to be replaced by mean of the temperature, as 35 deg F is not possible, because \n",
    "below 95 deg F is hypothermia condition\n",
    "\n",
    "Pulse (Heart) Rate ; 60 to 100 for normall a/c hopskin medical, and 60 to 80 a/c to cleaveland clinic\n",
    "so we'll replace values > 170\n",
    "\n",
    "Respiratory Rates ; 12 to 16 breaths per min a/c to hopskin for normal person, 12 to 25 a/c to cleaveland clinic\n",
    "so we'll drop/replace values >50\n",
    "\n",
    "Systolic BP; drop below 60 and above 200\n",
    "\n",
    "Diastolic BP; drop below 30 and above 110"
   ]
  },
  {
   "cell_type": "code",
   "execution_count": 5,
   "id": "1b3ab8ba",
   "metadata": {},
   "outputs": [
    {
     "data": {
      "text/plain": [
       "subject_id         0\n",
       "icustay_id        17\n",
       "Pulse_BPM          1\n",
       "Resp_Rate_BPM      3\n",
       "Temp_F            40\n",
       "Sys_BP_mmHg      111\n",
       "Dia_BP_mmHg      111\n",
       "dtype: int64"
      ]
     },
     "execution_count": 5,
     "metadata": {},
     "output_type": "execute_result"
    }
   ],
   "source": [
    "v4.isna().sum()"
   ]
  },
  {
   "cell_type": "code",
   "execution_count": 6,
   "id": "233a076d",
   "metadata": {},
   "outputs": [],
   "source": [
    "# We will also be filling NA values with either mean or median"
   ]
  },
  {
   "cell_type": "markdown",
   "id": "a21932b7",
   "metadata": {},
   "source": [
    "# Temperature"
   ]
  },
  {
   "cell_type": "code",
   "execution_count": 7,
   "id": "a93deb2f",
   "metadata": {},
   "outputs": [
    {
     "data": {
      "text/plain": [
       "<AxesSubplot:>"
      ]
     },
     "execution_count": 7,
     "metadata": {},
     "output_type": "execute_result"
    },
    {
     "data": {
      "image/png": "[encoded data removed]",
      "text/plain": [
       "<Figure size 432x288 with 1 Axes>"
      ]
     },
     "metadata": {
      "needs_background": "light"
     },
     "output_type": "display_data"
    }
   ],
   "source": [
    "v4.boxplot(column = \"Temp_F\")"
   ]
  },
  {
   "cell_type": "code",
   "execution_count": 8,
   "id": "8f4466d3",
   "metadata": {},
   "outputs": [],
   "source": [
    "v4['Temp_F'].mask(v4['Temp_F'] < 90 ,v4['Temp_F'].mean() , inplace=True)"
   ]
  },
  {
   "cell_type": "code",
   "execution_count": 11,
   "id": "5754db4c",
   "metadata": {},
   "outputs": [],
   "source": [
    "v4['Temp_F'].fillna(value = v4['Temp_F'].mean() , inplace = True)"
   ]
  },
  {
   "cell_type": "code",
   "execution_count": 12,
   "id": "c9a7a1c6",
   "metadata": {},
   "outputs": [
    {
     "data": {
      "text/plain": [
       "<AxesSubplot:>"
      ]
     },
     "execution_count": 12,
     "metadata": {},
     "output_type": "execute_result"
    },
    {
     "data": {
      "image/png": "[encoded data removed]",
      "text/plain": [
       "<Figure size 432x288 with 1 Axes>"
      ]
     },
     "metadata": {
      "needs_background": "light"
     },
     "output_type": "display_data"
    }
   ],
   "source": [
    "v4.boxplot(column = \"Temp_F\")"
   ]
  },
  {
   "cell_type": "code",
   "execution_count": 13,
   "id": "f5058cec",
   "metadata": {},
   "outputs": [
    {
     "data": {
      "text/plain": [
       "subject_id         0\n",
       "icustay_id        17\n",
       "Pulse_BPM          1\n",
       "Resp_Rate_BPM      3\n",
       "Temp_F             0\n",
       "Sys_BP_mmHg      111\n",
       "Dia_BP_mmHg      111\n",
       "dtype: int64"
      ]
     },
     "execution_count": 13,
     "metadata": {},
     "output_type": "execute_result"
    }
   ],
   "source": [
    "v4.isna().sum()"
   ]
  },
  {
   "cell_type": "markdown",
   "id": "36a22358",
   "metadata": {},
   "source": [
    "# Pulse Rate"
   ]
  },
  {
   "cell_type": "code",
   "execution_count": 14,
   "id": "15257a07",
   "metadata": {},
   "outputs": [
    {
     "data": {
      "text/plain": [
       "<AxesSubplot:>"
      ]
     },
     "execution_count": 14,
     "metadata": {},
     "output_type": "execute_result"
    },
    {
     "data": {
      "image/png": "[encoded data removed]",
      "text/plain": [
       "<Figure size 432x288 with 1 Axes>"
      ]
     },
     "metadata": {
      "needs_background": "light"
     },
     "output_type": "display_data"
    }
   ],
   "source": [
    "v4.boxplot(column = \"Pulse_BPM\")"
   ]
  },
  {
   "cell_type": "code",
   "execution_count": 15,
   "id": "5920524c",
   "metadata": {},
   "outputs": [],
   "source": [
    "v4['Pulse_BPM'].mask(v4['Pulse_BPM'] > 170 ,v4['Pulse_BPM'].mean() , inplace=True)"
   ]
  },
  {
   "cell_type": "code",
   "execution_count": 16,
   "id": "9a484b34",
   "metadata": {},
   "outputs": [],
   "source": [
    "v4['Pulse_BPM'].fillna(value = v4['Pulse_BPM'].mean() , inplace = True)"
   ]
  },
  {
   "cell_type": "code",
   "execution_count": 17,
   "id": "ff96f45b",
   "metadata": {},
   "outputs": [
    {
     "data": {
      "text/plain": [
       "<AxesSubplot:>"
      ]
     },
     "execution_count": 17,
     "metadata": {},
     "output_type": "execute_result"
    },
    {
     "data": {
      "image/png": "[encoded data removed]",
      "text/plain": [
       "<Figure size 432x288 with 1 Axes>"
      ]
     },
     "metadata": {
      "needs_background": "light"
     },
     "output_type": "display_data"
    }
   ],
   "source": [
    "v4.boxplot(column = \"Pulse_BPM\")"
   ]
  },
  {
   "cell_type": "markdown",
   "id": "4be2f0f0",
   "metadata": {},
   "source": [
    "# Respiratory Rate"
   ]
  },
  {
   "cell_type": "code",
   "execution_count": 18,
   "id": "6b23cb40",
   "metadata": {},
   "outputs": [
    {
     "data": {
      "text/plain": [
       "<AxesSubplot:>"
      ]
     },
     "execution_count": 18,
     "metadata": {},
     "output_type": "execute_result"
    },
    {
     "data": {
      "image/png": "[encoded data removed]",
      "text/plain": [
       "<Figure size 432x288 with 1 Axes>"
      ]
     },
     "metadata": {
      "needs_background": "light"
     },
     "output_type": "display_data"
    }
   ],
   "source": [
    "v4.boxplot(column = \"Resp_Rate_BPM\")"
   ]
  },
  {
   "cell_type": "code",
   "execution_count": 19,
   "id": "d3315c83",
   "metadata": {},
   "outputs": [],
   "source": [
    "v4['Resp_Rate_BPM'].mask(v4['Resp_Rate_BPM'] > 80 ,v4['Resp_Rate_BPM'].mean() , inplace=True)"
   ]
  },
  {
   "cell_type": "code",
   "execution_count": 20,
   "id": "1e229d0a",
   "metadata": {},
   "outputs": [],
   "source": [
    "v4['Resp_Rate_BPM'].fillna(value = v4['Resp_Rate_BPM'].mean() , inplace = True)"
   ]
  },
  {
   "cell_type": "code",
   "execution_count": 21,
   "id": "c13c1cbf",
   "metadata": {},
   "outputs": [
    {
     "data": {
      "text/plain": [
       "<AxesSubplot:>"
      ]
     },
     "execution_count": 21,
     "metadata": {},
     "output_type": "execute_result"
    },
    {
     "data": {
      "image/png": "[encoded data removed]",
      "text/plain": [
       "<Figure size 432x288 with 1 Axes>"
      ]
     },
     "metadata": {
      "needs_background": "light"
     },
     "output_type": "display_data"
    }
   ],
   "source": [
    "v4.boxplot(column = \"Resp_Rate_BPM\")"
   ]
  },
  {
   "cell_type": "markdown",
   "id": "5d509f9e",
   "metadata": {},
   "source": [
    "# BP"
   ]
  },
  {
   "cell_type": "markdown",
   "id": "7c20e61c",
   "metadata": {},
   "source": [
    "Sys_BP_mmHg\tDia_BP_mmHg"
   ]
  },
  {
   "cell_type": "code",
   "execution_count": 22,
   "id": "ed2ae077",
   "metadata": {},
   "outputs": [
    {
     "data": {
      "text/plain": [
       "<AxesSubplot:>"
      ]
     },
     "execution_count": 22,
     "metadata": {},
     "output_type": "execute_result"
    },
    {
     "data": {
      "image/png": "[encoded data removed]",
      "text/plain": [
       "<Figure size 432x288 with 1 Axes>"
      ]
     },
     "metadata": {
      "needs_background": "light"
     },
     "output_type": "display_data"
    }
   ],
   "source": [
    "v4.boxplot(column = \"Sys_BP_mmHg\")"
   ]
  },
  {
   "cell_type": "code",
   "execution_count": 23,
   "id": "ec3414a9",
   "metadata": {},
   "outputs": [
    {
     "data": {
      "text/plain": [
       "<AxesSubplot:>"
      ]
     },
     "execution_count": 23,
     "metadata": {},
     "output_type": "execute_result"
    },
    {
     "data": {
      "image/png": "[encoded data removed]",
      "text/plain": [
       "<Figure size 432x288 with 1 Axes>"
      ]
     },
     "metadata": {
      "needs_background": "light"
     },
     "output_type": "display_data"
    }
   ],
   "source": [
    "v4.boxplot(column = \"Dia_BP_mmHg\")"
   ]
  },
  {
   "cell_type": "code",
   "execution_count": 24,
   "id": "c03e1e0f",
   "metadata": {},
   "outputs": [],
   "source": [
    "v4['Sys_BP_mmHg'].mask(v4['Sys_BP_mmHg'] > 220 ,v4['Sys_BP_mmHg'].mean() , inplace=True)"
   ]
  },
  {
   "cell_type": "code",
   "execution_count": 25,
   "id": "f2925bba",
   "metadata": {},
   "outputs": [],
   "source": [
    "v4['Sys_BP_mmHg'].mask(v4['Sys_BP_mmHg'] < 50 ,v4['Sys_BP_mmHg'].mean() , inplace=True)"
   ]
  },
  {
   "cell_type": "code",
   "execution_count": 26,
   "id": "b8b1ae2a",
   "metadata": {},
   "outputs": [],
   "source": [
    "v4['Sys_BP_mmHg'].fillna(value = v4['Sys_BP_mmHg'].mean() , inplace = True)"
   ]
  },
  {
   "cell_type": "code",
   "execution_count": 28,
   "id": "0ca6aaab",
   "metadata": {},
   "outputs": [],
   "source": [
    "v4['Dia_BP_mmHg'].mask(v4['Dia_BP_mmHg'] > 125 ,v4['Dia_BP_mmHg'].mean() , inplace=True)"
   ]
  },
  {
   "cell_type": "code",
   "execution_count": 29,
   "id": "9a3ddc37",
   "metadata": {},
   "outputs": [],
   "source": [
    "v4['Dia_BP_mmHg'].mask(v4['Dia_BP_mmHg'] < 20 ,v4['Dia_BP_mmHg'].mean() , inplace=True)"
   ]
  },
  {
   "cell_type": "code",
   "execution_count": 27,
   "id": "dbced1f3",
   "metadata": {},
   "outputs": [],
   "source": [
    "v4['Dia_BP_mmHg'].fillna(value = v4['Dia_BP_mmHg'].mean() , inplace = True)"
   ]
  },
  {
   "cell_type": "code",
   "execution_count": 30,
   "id": "36bcd775",
   "metadata": {},
   "outputs": [
    {
     "data": {
      "text/plain": [
       "<AxesSubplot:>"
      ]
     },
     "execution_count": 30,
     "metadata": {},
     "output_type": "execute_result"
    },
    {
     "data": {
      "image/png": "[encoded data removed]",
      "text/plain": [
       "<Figure size 432x288 with 1 Axes>"
      ]
     },
     "metadata": {
      "needs_background": "light"
     },
     "output_type": "display_data"
    }
   ],
   "source": [
    "v4.boxplot(column = \"Sys_BP_mmHg\")"
   ]
  },
  {
   "cell_type": "code",
   "execution_count": 31,
   "id": "df5ca07d",
   "metadata": {},
   "outputs": [
    {
     "data": {
      "text/plain": [
       "<AxesSubplot:>"
      ]
     },
     "execution_count": 31,
     "metadata": {},
     "output_type": "execute_result"
    },
    {
     "data": {
      "image/png": "[encoded data removed]",
      "text/plain": [
       "<Figure size 432x288 with 1 Axes>"
      ]
     },
     "metadata": {
      "needs_background": "light"
     },
     "output_type": "display_data"
    }
   ],
   "source": [
    "v4.boxplot(column = \"Dia_BP_mmHg\")"
   ]
  },
  {
   "cell_type": "code",
   "execution_count": null,
   "id": "e56cf792",
   "metadata": {},
   "outputs": [],
   "source": []
  },
  {
   "cell_type": "code",
   "execution_count": null,
   "id": "0ac3a9de",
   "metadata": {},
   "outputs": [],
   "source": []
  },
  {
   "cell_type": "code",
   "execution_count": 32,
   "id": "dba658d0",
   "metadata": {},
   "outputs": [
    {
     "data": {
      "text/html": [
       "<div>\n",
       "<style scoped>\n",
       "    .dataframe tbody tr th:only-of-type {\n",
       "        vertical-align: middle;\n",
       "    }\n",
       "\n",
       "    .dataframe tbody tr th {\n",
       "        vertical-align: top;\n",
       "    }\n",
       "\n",
       "    .dataframe thead th {\n",
       "        text-align: right;\n",
       "    }\n",
       "</style>\n",
       "<table border=\"1\" class=\"dataframe\">\n",
       "  <thead>\n",
       "    <tr style=\"text-align: right;\">\n",
       "      <th></th>\n",
       "      <th>subject_id</th>\n",
       "      <th>icustay_id</th>\n",
       "      <th>Pulse_BPM</th>\n",
       "      <th>Resp_Rate_BPM</th>\n",
       "      <th>Temp_F</th>\n",
       "      <th>Sys_BP_mmHg</th>\n",
       "      <th>Dia_BP_mmHg</th>\n",
       "    </tr>\n",
       "  </thead>\n",
       "  <tbody>\n",
       "    <tr>\n",
       "      <th>count</th>\n",
       "      <td>3471.000000</td>\n",
       "      <td>3454.000000</td>\n",
       "      <td>3471.000000</td>\n",
       "      <td>3471.000000</td>\n",
       "      <td>3471.000000</td>\n",
       "      <td>3471.000000</td>\n",
       "      <td>3471.000000</td>\n",
       "    </tr>\n",
       "    <tr>\n",
       "      <th>mean</th>\n",
       "      <td>14342.510228</td>\n",
       "      <td>18401.690793</td>\n",
       "      <td>88.580982</td>\n",
       "      <td>19.309208</td>\n",
       "      <td>98.035094</td>\n",
       "      <td>125.044968</td>\n",
       "      <td>60.962658</td>\n",
       "    </tr>\n",
       "    <tr>\n",
       "      <th>std</th>\n",
       "      <td>8427.369037</td>\n",
       "      <td>11442.089960</td>\n",
       "      <td>20.988552</td>\n",
       "      <td>6.621651</td>\n",
       "      <td>1.780172</td>\n",
       "      <td>26.886261</td>\n",
       "      <td>14.645040</td>\n",
       "    </tr>\n",
       "    <tr>\n",
       "      <th>min</th>\n",
       "      <td>3.000000</td>\n",
       "      <td>4.000000</td>\n",
       "      <td>29.000000</td>\n",
       "      <td>0.000000</td>\n",
       "      <td>90.099998</td>\n",
       "      <td>50.000000</td>\n",
       "      <td>21.000000</td>\n",
       "    </tr>\n",
       "    <tr>\n",
       "      <th>25%</th>\n",
       "      <td>7149.500000</td>\n",
       "      <td>8957.250000</td>\n",
       "      <td>74.000000</td>\n",
       "      <td>15.000000</td>\n",
       "      <td>97.000000</td>\n",
       "      <td>106.000000</td>\n",
       "      <td>51.000000</td>\n",
       "    </tr>\n",
       "    <tr>\n",
       "      <th>50%</th>\n",
       "      <td>14315.000000</td>\n",
       "      <td>17961.500000</td>\n",
       "      <td>87.000000</td>\n",
       "      <td>18.000000</td>\n",
       "      <td>98.000000</td>\n",
       "      <td>123.000000</td>\n",
       "      <td>59.619643</td>\n",
       "    </tr>\n",
       "    <tr>\n",
       "      <th>75%</th>\n",
       "      <td>21370.500000</td>\n",
       "      <td>26736.250000</td>\n",
       "      <td>102.000000</td>\n",
       "      <td>23.000000</td>\n",
       "      <td>99.000000</td>\n",
       "      <td>141.000000</td>\n",
       "      <td>70.000000</td>\n",
       "    </tr>\n",
       "    <tr>\n",
       "      <th>max</th>\n",
       "      <td>32763.000000</td>\n",
       "      <td>47473.000000</td>\n",
       "      <td>169.000000</td>\n",
       "      <td>79.000000</td>\n",
       "      <td>107.599998</td>\n",
       "      <td>219.000000</td>\n",
       "      <td>120.000000</td>\n",
       "    </tr>\n",
       "  </tbody>\n",
       "</table>\n",
       "</div>"
      ],
      "text/plain": [
       "         subject_id    icustay_id    Pulse_BPM  Resp_Rate_BPM       Temp_F  \\\n",
       "count   3471.000000   3454.000000  3471.000000    3471.000000  3471.000000   \n",
       "mean   14342.510228  18401.690793    88.580982      19.309208    98.035094   \n",
       "std     8427.369037  11442.089960    20.988552       6.621651     1.780172   \n",
       "min        3.000000      4.000000    29.000000       0.000000    90.099998   \n",
       "25%     7149.500000   8957.250000    74.000000      15.000000    97.000000   \n",
       "50%    14315.000000  17961.500000    87.000000      18.000000    98.000000   \n",
       "75%    21370.500000  26736.250000   102.000000      23.000000    99.000000   \n",
       "max    32763.000000  47473.000000   169.000000      79.000000   107.599998   \n",
       "\n",
       "       Sys_BP_mmHg  Dia_BP_mmHg  \n",
       "count  3471.000000  3471.000000  \n",
       "mean    125.044968    60.962658  \n",
       "std      26.886261    14.645040  \n",
       "min      50.000000    21.000000  \n",
       "25%     106.000000    51.000000  \n",
       "50%     123.000000    59.619643  \n",
       "75%     141.000000    70.000000  \n",
       "max     219.000000   120.000000  "
      ]
     },
     "execution_count": 32,
     "metadata": {},
     "output_type": "execute_result"
    }
   ],
   "source": [
    "v4.describe()"
   ]
  },
  {
   "cell_type": "code",
   "execution_count": 33,
   "id": "6ba7d85c",
   "metadata": {},
   "outputs": [
    {
     "data": {
      "image/png": "[encoded data removed]",
      "text/plain": [
       "<Figure size 1080x1080 with 9 Axes>"
      ]
     },
     "metadata": {
      "needs_background": "light"
     },
     "output_type": "display_data"
    }
   ],
   "source": [
    "v4.hist(figsize= (15,15), bins =30);"
   ]
  },
  {
   "cell_type": "code",
   "execution_count": 34,
   "id": "ea0782b0",
   "metadata": {},
   "outputs": [
    {
     "data": {
      "text/plain": [
       "subject_id        0\n",
       "icustay_id       17\n",
       "Pulse_BPM         0\n",
       "Resp_Rate_BPM     0\n",
       "Temp_F            0\n",
       "Sys_BP_mmHg       0\n",
       "Dia_BP_mmHg       0\n",
       "dtype: int64"
      ]
     },
     "execution_count": 34,
     "metadata": {},
     "output_type": "execute_result"
    }
   ],
   "source": [
    "v4.isna().sum()"
   ]
  },
  {
   "cell_type": "code",
   "execution_count": 35,
   "id": "6ce753c3",
   "metadata": {},
   "outputs": [],
   "source": [
    "v4.to_csv(\"Cleaned_Vital_Signs.csv\", index = False)"
   ]
  },
  {
   "cell_type": "code",
   "execution_count": 36,
   "id": "c83bf97d",
   "metadata": {},
   "outputs": [
    {
     "data": {
      "text/html": [
       "<div>\n",
       "<style scoped>\n",
       "    .dataframe tbody tr th:only-of-type {\n",
       "        vertical-align: middle;\n",
       "    }\n",
       "\n",
       "    .dataframe tbody tr th {\n",
       "        vertical-align: top;\n",
       "    }\n",
       "\n",
       "    .dataframe thead th {\n",
       "        text-align: right;\n",
       "    }\n",
       "</style>\n",
       "<table border=\"1\" class=\"dataframe\">\n",
       "  <thead>\n",
       "    <tr style=\"text-align: right;\">\n",
       "      <th></th>\n",
       "      <th>subject_id</th>\n",
       "      <th>icustay_id</th>\n",
       "      <th>Pulse_BPM</th>\n",
       "      <th>Resp_Rate_BPM</th>\n",
       "      <th>Temp_F</th>\n",
       "      <th>Sys_BP_mmHg</th>\n",
       "      <th>Dia_BP_mmHg</th>\n",
       "    </tr>\n",
       "  </thead>\n",
       "  <tbody>\n",
       "    <tr>\n",
       "      <th>0</th>\n",
       "      <td>56</td>\n",
       "      <td>62.0</td>\n",
       "      <td>74.0</td>\n",
       "      <td>24.0</td>\n",
       "      <td>95.500000</td>\n",
       "      <td>141.0</td>\n",
       "      <td>56.0</td>\n",
       "    </tr>\n",
       "    <tr>\n",
       "      <th>1</th>\n",
       "      <td>3</td>\n",
       "      <td>4.0</td>\n",
       "      <td>151.0</td>\n",
       "      <td>5.0</td>\n",
       "      <td>98.199997</td>\n",
       "      <td>78.0</td>\n",
       "      <td>49.0</td>\n",
       "    </tr>\n",
       "    <tr>\n",
       "      <th>2</th>\n",
       "      <td>21</td>\n",
       "      <td>23.0</td>\n",
       "      <td>77.0</td>\n",
       "      <td>16.0</td>\n",
       "      <td>98.199997</td>\n",
       "      <td>107.0</td>\n",
       "      <td>49.0</td>\n",
       "    </tr>\n",
       "    <tr>\n",
       "      <th>3</th>\n",
       "      <td>12</td>\n",
       "      <td>13.0</td>\n",
       "      <td>88.0</td>\n",
       "      <td>12.0</td>\n",
       "      <td>96.300003</td>\n",
       "      <td>123.0</td>\n",
       "      <td>68.0</td>\n",
       "    </tr>\n",
       "    <tr>\n",
       "      <th>4</th>\n",
       "      <td>26</td>\n",
       "      <td>29.0</td>\n",
       "      <td>60.0</td>\n",
       "      <td>18.0</td>\n",
       "      <td>99.699997</td>\n",
       "      <td>102.0</td>\n",
       "      <td>45.0</td>\n",
       "    </tr>\n",
       "    <tr>\n",
       "      <th>...</th>\n",
       "      <td>...</td>\n",
       "      <td>...</td>\n",
       "      <td>...</td>\n",
       "      <td>...</td>\n",
       "      <td>...</td>\n",
       "      <td>...</td>\n",
       "      <td>...</td>\n",
       "    </tr>\n",
       "    <tr>\n",
       "      <th>3466</th>\n",
       "      <td>32675</td>\n",
       "      <td>47381.0</td>\n",
       "      <td>109.0</td>\n",
       "      <td>21.0</td>\n",
       "      <td>97.400002</td>\n",
       "      <td>98.0</td>\n",
       "      <td>47.0</td>\n",
       "    </tr>\n",
       "    <tr>\n",
       "      <th>3467</th>\n",
       "      <td>32637</td>\n",
       "      <td>47337.0</td>\n",
       "      <td>49.0</td>\n",
       "      <td>12.0</td>\n",
       "      <td>95.400002</td>\n",
       "      <td>82.0</td>\n",
       "      <td>55.0</td>\n",
       "    </tr>\n",
       "    <tr>\n",
       "      <th>3468</th>\n",
       "      <td>32763</td>\n",
       "      <td>47473.0</td>\n",
       "      <td>93.0</td>\n",
       "      <td>24.0</td>\n",
       "      <td>99.400002</td>\n",
       "      <td>100.0</td>\n",
       "      <td>52.0</td>\n",
       "    </tr>\n",
       "    <tr>\n",
       "      <th>3469</th>\n",
       "      <td>32686</td>\n",
       "      <td>47394.0</td>\n",
       "      <td>70.0</td>\n",
       "      <td>25.0</td>\n",
       "      <td>96.699997</td>\n",
       "      <td>146.0</td>\n",
       "      <td>71.0</td>\n",
       "    </tr>\n",
       "    <tr>\n",
       "      <th>3470</th>\n",
       "      <td>32711</td>\n",
       "      <td>47421.0</td>\n",
       "      <td>106.0</td>\n",
       "      <td>20.0</td>\n",
       "      <td>96.800003</td>\n",
       "      <td>111.0</td>\n",
       "      <td>79.0</td>\n",
       "    </tr>\n",
       "  </tbody>\n",
       "</table>\n",
       "<p>3471 rows × 7 columns</p>\n",
       "</div>"
      ],
      "text/plain": [
       "      subject_id  icustay_id  Pulse_BPM  Resp_Rate_BPM     Temp_F  \\\n",
       "0             56        62.0       74.0           24.0  95.500000   \n",
       "1              3         4.0      151.0            5.0  98.199997   \n",
       "2             21        23.0       77.0           16.0  98.199997   \n",
       "3             12        13.0       88.0           12.0  96.300003   \n",
       "4             26        29.0       60.0           18.0  99.699997   \n",
       "...          ...         ...        ...            ...        ...   \n",
       "3466       32675     47381.0      109.0           21.0  97.400002   \n",
       "3467       32637     47337.0       49.0           12.0  95.400002   \n",
       "3468       32763     47473.0       93.0           24.0  99.400002   \n",
       "3469       32686     47394.0       70.0           25.0  96.699997   \n",
       "3470       32711     47421.0      106.0           20.0  96.800003   \n",
       "\n",
       "      Sys_BP_mmHg  Dia_BP_mmHg  \n",
       "0           141.0         56.0  \n",
       "1            78.0         49.0  \n",
       "2           107.0         49.0  \n",
       "3           123.0         68.0  \n",
       "4           102.0         45.0  \n",
       "...           ...          ...  \n",
       "3466         98.0         47.0  \n",
       "3467         82.0         55.0  \n",
       "3468        100.0         52.0  \n",
       "3469        146.0         71.0  \n",
       "3470        111.0         79.0  \n",
       "\n",
       "[3471 rows x 7 columns]"
      ]
     },
     "execution_count": 36,
     "metadata": {},
     "output_type": "execute_result"
    }
   ],
   "source": [
    "v4"
   ]
  },
  {
   "cell_type": "code",
   "execution_count": null,
   "id": "7206a662",
   "metadata": {},
   "outputs": [],
   "source": []
  },
  {
   "cell_type": "markdown",
   "id": "d10ae871",
   "metadata": {},
   "source": [
    "# Merging Vital Signs and Summarized ICD 9 File"
   ]
  },
  {
   "cell_type": "code",
   "execution_count": 118,
   "id": "9bb4813c",
   "metadata": {},
   "outputs": [],
   "source": [
    "file = pd.read_csv(\"summarized_icd_details_latest.csv\")"
   ]
  },
  {
   "cell_type": "code",
   "execution_count": 119,
   "id": "48d82d94",
   "metadata": {},
   "outputs": [
    {
     "data": {
      "text/plain": [
       "Index(['subject_id_x', 'hadm_id', 'admit_dt', 'sex', 'dob', 'age_at_adm',\n",
       "       'subject_id_y', 'sequence', 'code', 'description', 'category',\n",
       "       'subject_id', 'marital_status_itemid', 'marital_status_descr',\n",
       "       'ethnicity_itemid', 'ethnicity_descr', 'overall_payor_group_itemid',\n",
       "       'overall_payor_group_descr', 'religion_itemid', 'religion_descr',\n",
       "       'admission_type_itemid', 'admission_type_descr',\n",
       "       'admission_source_itemid', 'admission_source_descr', 'seasons'],\n",
       "      dtype='object')"
      ]
     },
     "execution_count": 119,
     "metadata": {},
     "output_type": "execute_result"
    }
   ],
   "source": [
    "file.columns"
   ]
  },
  {
   "cell_type": "markdown",
   "id": "8b5cbd85",
   "metadata": {},
   "source": [
    "#### First dropping irrelavent columns"
   ]
  },
  {
   "cell_type": "code",
   "execution_count": 120,
   "id": "30e2e4a4",
   "metadata": {},
   "outputs": [],
   "source": [
    "file.drop(['subject_id_x',\n",
    "           'admit_dt',\n",
    "           'dob',\n",
    "           'subject_id_y',\n",
    "           'sequence',\n",
    "           'code',\n",
    "           'description',\n",
    "           'marital_status_itemid',\n",
    "           'ethnicity_itemid',\n",
    "           'overall_payor_group_itemid',\n",
    "           'religion_itemid',\n",
    "           'admission_type_itemid',\n",
    "           'admission_source_itemid',\n",
    "           'admission_source_descr'\n",
    "        ], axis = 1, inplace = True)"
   ]
  },
  {
   "cell_type": "code",
   "execution_count": 121,
   "id": "8d67e55e",
   "metadata": {},
   "outputs": [
    {
     "data": {
      "text/html": [
       "<div>\n",
       "<style scoped>\n",
       "    .dataframe tbody tr th:only-of-type {\n",
       "        vertical-align: middle;\n",
       "    }\n",
       "\n",
       "    .dataframe tbody tr th {\n",
       "        vertical-align: top;\n",
       "    }\n",
       "\n",
       "    .dataframe thead th {\n",
       "        text-align: right;\n",
       "    }\n",
       "</style>\n",
       "<table border=\"1\" class=\"dataframe\">\n",
       "  <thead>\n",
       "    <tr style=\"text-align: right;\">\n",
       "      <th></th>\n",
       "      <th>hadm_id</th>\n",
       "      <th>sex</th>\n",
       "      <th>age_at_adm</th>\n",
       "      <th>category</th>\n",
       "      <th>subject_id</th>\n",
       "      <th>marital_status_descr</th>\n",
       "      <th>ethnicity_descr</th>\n",
       "      <th>overall_payor_group_descr</th>\n",
       "      <th>religion_descr</th>\n",
       "      <th>admission_type_descr</th>\n",
       "      <th>seasons</th>\n",
       "    </tr>\n",
       "  </thead>\n",
       "  <tbody>\n",
       "    <tr>\n",
       "      <th>0</th>\n",
       "      <td>2075</td>\n",
       "      <td>M</td>\n",
       "      <td>76.0</td>\n",
       "      <td>Infectious diseases</td>\n",
       "      <td>3</td>\n",
       "      <td>MARRIED</td>\n",
       "      <td>WHITE</td>\n",
       "      <td>MEDICARE</td>\n",
       "      <td>CATHOLIC</td>\n",
       "      <td>EMERGENCY</td>\n",
       "      <td>autumn</td>\n",
       "    </tr>\n",
       "    <tr>\n",
       "      <th>1</th>\n",
       "      <td>12532</td>\n",
       "      <td>M</td>\n",
       "      <td>72.0</td>\n",
       "      <td>Neoplasms</td>\n",
       "      <td>12</td>\n",
       "      <td>MARRIED</td>\n",
       "      <td>WHITE</td>\n",
       "      <td>MEDICARE</td>\n",
       "      <td>JEWISH</td>\n",
       "      <td>ELECTIVE</td>\n",
       "      <td>autumn</td>\n",
       "    </tr>\n",
       "    <tr>\n",
       "      <th>2</th>\n",
       "      <td>20666</td>\n",
       "      <td>M</td>\n",
       "      <td>87.0</td>\n",
       "      <td>Ischemic heart disease</td>\n",
       "      <td>21</td>\n",
       "      <td>MARRIED</td>\n",
       "      <td>WHITE</td>\n",
       "      <td>MEDICARE</td>\n",
       "      <td>JEWISH</td>\n",
       "      <td>EMERGENCY</td>\n",
       "      <td>autumn</td>\n",
       "    </tr>\n",
       "    <tr>\n",
       "      <th>3</th>\n",
       "      <td>15067</td>\n",
       "      <td>M</td>\n",
       "      <td>72.0</td>\n",
       "      <td>Other forms of heart disease</td>\n",
       "      <td>26</td>\n",
       "      <td>SINGLE</td>\n",
       "      <td>UNKNOWN/NOT SPECIFIED</td>\n",
       "      <td>MEDICARE</td>\n",
       "      <td>CATHOLIC</td>\n",
       "      <td>EMERGENCY</td>\n",
       "      <td>spring</td>\n",
       "    </tr>\n",
       "    <tr>\n",
       "      <th>4</th>\n",
       "      <td>15325</td>\n",
       "      <td>M</td>\n",
       "      <td>72.0</td>\n",
       "      <td>Neurologic disease</td>\n",
       "      <td>31</td>\n",
       "      <td>MARRIED</td>\n",
       "      <td>WHITE</td>\n",
       "      <td>MEDICARE</td>\n",
       "      <td>CATHOLIC</td>\n",
       "      <td>EMERGENCY</td>\n",
       "      <td>summer</td>\n",
       "    </tr>\n",
       "    <tr>\n",
       "      <th>...</th>\n",
       "      <td>...</td>\n",
       "      <td>...</td>\n",
       "      <td>...</td>\n",
       "      <td>...</td>\n",
       "      <td>...</td>\n",
       "      <td>...</td>\n",
       "      <td>...</td>\n",
       "      <td>...</td>\n",
       "      <td>...</td>\n",
       "      <td>...</td>\n",
       "      <td>...</td>\n",
       "    </tr>\n",
       "    <tr>\n",
       "      <th>3917</th>\n",
       "      <td>30102</td>\n",
       "      <td>M</td>\n",
       "      <td>68.0</td>\n",
       "      <td>Pulmonary disease</td>\n",
       "      <td>32686</td>\n",
       "      <td>MARRIED</td>\n",
       "      <td>WHITE</td>\n",
       "      <td>PRIVATE</td>\n",
       "      <td>UNOBTAINABLE</td>\n",
       "      <td>EMERGENCY</td>\n",
       "      <td>spring</td>\n",
       "    </tr>\n",
       "    <tr>\n",
       "      <th>3918</th>\n",
       "      <td>33462</td>\n",
       "      <td>F</td>\n",
       "      <td>80.0</td>\n",
       "      <td>Infectious diseases</td>\n",
       "      <td>32705</td>\n",
       "      <td>WIDOWED</td>\n",
       "      <td>WHITE</td>\n",
       "      <td>PRIVATE</td>\n",
       "      <td>PROTESTANT QUAKER</td>\n",
       "      <td>EMERGENCY</td>\n",
       "      <td>spring</td>\n",
       "    </tr>\n",
       "    <tr>\n",
       "      <th>3919</th>\n",
       "      <td>35651</td>\n",
       "      <td>M</td>\n",
       "      <td>81.0</td>\n",
       "      <td>Cerebrovascular disease</td>\n",
       "      <td>32706</td>\n",
       "      <td>WIDOWED</td>\n",
       "      <td>WHITE</td>\n",
       "      <td>MEDICARE</td>\n",
       "      <td>CATHOLIC</td>\n",
       "      <td>EMERGENCY</td>\n",
       "      <td>spring</td>\n",
       "    </tr>\n",
       "    <tr>\n",
       "      <th>3920</th>\n",
       "      <td>36069</td>\n",
       "      <td>F</td>\n",
       "      <td>85.0</td>\n",
       "      <td>Arteries &amp; veins</td>\n",
       "      <td>32711</td>\n",
       "      <td>MARRIED</td>\n",
       "      <td>WHITE</td>\n",
       "      <td>MEDICARE</td>\n",
       "      <td>NOT SPECIFIED</td>\n",
       "      <td>EMERGENCY</td>\n",
       "      <td>spring</td>\n",
       "    </tr>\n",
       "    <tr>\n",
       "      <th>3921</th>\n",
       "      <td>33007</td>\n",
       "      <td>M</td>\n",
       "      <td>79.0</td>\n",
       "      <td>Pulmonary disease</td>\n",
       "      <td>32763</td>\n",
       "      <td>MARRIED</td>\n",
       "      <td>WHITE</td>\n",
       "      <td>MEDICARE</td>\n",
       "      <td>CATHOLIC</td>\n",
       "      <td>EMERGENCY</td>\n",
       "      <td>summer</td>\n",
       "    </tr>\n",
       "  </tbody>\n",
       "</table>\n",
       "<p>3922 rows × 11 columns</p>\n",
       "</div>"
      ],
      "text/plain": [
       "      hadm_id sex  age_at_adm                      category  subject_id  \\\n",
       "0        2075   M        76.0           Infectious diseases           3   \n",
       "1       12532   M        72.0                     Neoplasms          12   \n",
       "2       20666   M        87.0        Ischemic heart disease          21   \n",
       "3       15067   M        72.0  Other forms of heart disease          26   \n",
       "4       15325   M        72.0            Neurologic disease          31   \n",
       "...       ...  ..         ...                           ...         ...   \n",
       "3917    30102   M        68.0             Pulmonary disease       32686   \n",
       "3918    33462   F        80.0           Infectious diseases       32705   \n",
       "3919    35651   M        81.0       Cerebrovascular disease       32706   \n",
       "3920    36069   F        85.0              Arteries & veins       32711   \n",
       "3921    33007   M        79.0             Pulmonary disease       32763   \n",
       "\n",
       "     marital_status_descr        ethnicity_descr overall_payor_group_descr  \\\n",
       "0                 MARRIED                  WHITE                  MEDICARE   \n",
       "1                 MARRIED                  WHITE                  MEDICARE   \n",
       "2                 MARRIED                  WHITE                  MEDICARE   \n",
       "3                  SINGLE  UNKNOWN/NOT SPECIFIED                  MEDICARE   \n",
       "4                 MARRIED                  WHITE                  MEDICARE   \n",
       "...                   ...                    ...                       ...   \n",
       "3917              MARRIED                  WHITE                   PRIVATE   \n",
       "3918              WIDOWED                  WHITE                   PRIVATE   \n",
       "3919              WIDOWED                  WHITE                  MEDICARE   \n",
       "3920              MARRIED                  WHITE                  MEDICARE   \n",
       "3921              MARRIED                  WHITE                  MEDICARE   \n",
       "\n",
       "         religion_descr admission_type_descr seasons  \n",
       "0              CATHOLIC            EMERGENCY  autumn  \n",
       "1                JEWISH             ELECTIVE  autumn  \n",
       "2                JEWISH            EMERGENCY  autumn  \n",
       "3              CATHOLIC            EMERGENCY  spring  \n",
       "4              CATHOLIC            EMERGENCY  summer  \n",
       "...                 ...                  ...     ...  \n",
       "3917       UNOBTAINABLE            EMERGENCY  spring  \n",
       "3918  PROTESTANT QUAKER            EMERGENCY  spring  \n",
       "3919           CATHOLIC            EMERGENCY  spring  \n",
       "3920      NOT SPECIFIED            EMERGENCY  spring  \n",
       "3921           CATHOLIC            EMERGENCY  summer  \n",
       "\n",
       "[3922 rows x 11 columns]"
      ]
     },
     "execution_count": 121,
     "metadata": {},
     "output_type": "execute_result"
    }
   ],
   "source": [
    "file"
   ]
  },
  {
   "cell_type": "markdown",
   "id": "ef2c2de1",
   "metadata": {},
   "source": [
    "# Merging file and v4"
   ]
  },
  {
   "cell_type": "code",
   "execution_count": 122,
   "id": "de633016",
   "metadata": {},
   "outputs": [
    {
     "data": {
      "text/plain": [
       "Index(['hadm_id', 'sex', 'age_at_adm', 'category', 'subject_id',\n",
       "       'marital_status_descr', 'ethnicity_descr', 'overall_payor_group_descr',\n",
       "       'religion_descr', 'admission_type_descr', 'seasons'],\n",
       "      dtype='object')"
      ]
     },
     "execution_count": 122,
     "metadata": {},
     "output_type": "execute_result"
    }
   ],
   "source": [
    "file.columns"
   ]
  },
  {
   "cell_type": "code",
   "execution_count": 123,
   "id": "db104bfc",
   "metadata": {},
   "outputs": [
    {
     "data": {
      "text/plain": [
       "Index(['subject_id', 'icustay_id', 'Pulse_BPM', 'Resp_Rate_BPM', 'Temp_F',\n",
       "       'Sys_BP_mmHg', 'Dia_BP_mmHg'],\n",
       "      dtype='object')"
      ]
     },
     "execution_count": 123,
     "metadata": {},
     "output_type": "execute_result"
    }
   ],
   "source": [
    "v4.columns"
   ]
  },
  {
   "cell_type": "code",
   "execution_count": 124,
   "id": "b7cea33b",
   "metadata": {},
   "outputs": [
    {
     "data": {
      "text/plain": [
       "(3922, 11)"
      ]
     },
     "execution_count": 124,
     "metadata": {},
     "output_type": "execute_result"
    }
   ],
   "source": [
    "file.shape"
   ]
  },
  {
   "cell_type": "code",
   "execution_count": 125,
   "id": "f6f44425",
   "metadata": {},
   "outputs": [
    {
     "data": {
      "text/plain": [
       "(3471, 7)"
      ]
     },
     "execution_count": 125,
     "metadata": {},
     "output_type": "execute_result"
    }
   ],
   "source": [
    "v4.shape"
   ]
  },
  {
   "cell_type": "code",
   "execution_count": 126,
   "id": "acb7c427",
   "metadata": {},
   "outputs": [
    {
     "data": {
      "text/plain": [
       "hadm_id                        0\n",
       "sex                           13\n",
       "age_at_adm                     0\n",
       "category                       1\n",
       "subject_id                     0\n",
       "marital_status_descr         328\n",
       "ethnicity_descr                0\n",
       "overall_payor_group_descr      0\n",
       "religion_descr               103\n",
       "admission_type_descr           0\n",
       "seasons                        0\n",
       "dtype: int64"
      ]
     },
     "execution_count": 126,
     "metadata": {},
     "output_type": "execute_result"
    }
   ],
   "source": [
    "file.isna().sum()"
   ]
  },
  {
   "cell_type": "code",
   "execution_count": 127,
   "id": "8a64b14f",
   "metadata": {},
   "outputs": [],
   "source": [
    "# file[\"category\"].fillna(value = file[\"category\"].mode()[0], inplace = True)"
   ]
  },
  {
   "cell_type": "code",
   "execution_count": 128,
   "id": "2ae04beb",
   "metadata": {},
   "outputs": [],
   "source": [
    "# file[\"marital_status_descr\"].fillna(value = file[\"marital_status_descr\"].mode()[0], inplace = True)"
   ]
  },
  {
   "cell_type": "code",
   "execution_count": 129,
   "id": "6c99283b",
   "metadata": {},
   "outputs": [],
   "source": [
    "# file[\"religion_descr\"].fillna(value = file[\"religion_descr\"].mode()[0], inplace = True)"
   ]
  },
  {
   "cell_type": "code",
   "execution_count": null,
   "id": "88ff01d8",
   "metadata": {},
   "outputs": [],
   "source": []
  },
  {
   "cell_type": "code",
   "execution_count": 130,
   "id": "ac55ce80",
   "metadata": {},
   "outputs": [
    {
     "data": {
      "text/plain": [
       "hadm_id                        0\n",
       "sex                           13\n",
       "age_at_adm                     0\n",
       "category                       1\n",
       "subject_id                     0\n",
       "marital_status_descr         328\n",
       "ethnicity_descr                0\n",
       "overall_payor_group_descr      0\n",
       "religion_descr               103\n",
       "admission_type_descr           0\n",
       "seasons                        0\n",
       "dtype: int64"
      ]
     },
     "execution_count": 130,
     "metadata": {},
     "output_type": "execute_result"
    }
   ],
   "source": [
    "file.isna().sum()"
   ]
  },
  {
   "cell_type": "code",
   "execution_count": 131,
   "id": "ab8eb528",
   "metadata": {},
   "outputs": [],
   "source": [
    "df1 = file.merge(v4, on=\"subject_id\", how = \"right\")"
   ]
  },
  {
   "cell_type": "code",
   "execution_count": 132,
   "id": "bdc2fbda",
   "metadata": {},
   "outputs": [
    {
     "data": {
      "text/plain": [
       "hadm_id                       36\n",
       "sex                           43\n",
       "age_at_adm                    36\n",
       "category                      36\n",
       "subject_id                     0\n",
       "marital_status_descr         344\n",
       "ethnicity_descr               36\n",
       "overall_payor_group_descr     36\n",
       "religion_descr               135\n",
       "admission_type_descr          36\n",
       "seasons                       36\n",
       "icustay_id                    17\n",
       "Pulse_BPM                      0\n",
       "Resp_Rate_BPM                  0\n",
       "Temp_F                         0\n",
       "Sys_BP_mmHg                    0\n",
       "Dia_BP_mmHg                    0\n",
       "dtype: int64"
      ]
     },
     "execution_count": 132,
     "metadata": {},
     "output_type": "execute_result"
    }
   ],
   "source": [
    "df1.isna().sum()"
   ]
  },
  {
   "cell_type": "code",
   "execution_count": 133,
   "id": "8980fa66",
   "metadata": {},
   "outputs": [],
   "source": [
    "df1[\"sex\"].fillna(value = df1[\"sex\"].mode()[0], inplace = True)\n",
    "\n",
    "df1[\"age_at_adm\"].fillna(value = df1[\"age_at_adm\"].mode()[0], inplace = True)\n",
    "\n",
    "df1[\"category\"].fillna(value = df1[\"category\"].mode()[0], inplace = True)\n",
    "\n",
    "df1[\"marital_status_descr\"].fillna(value = df1[\"marital_status_descr\"].mode()[0], inplace = True)\n",
    "\n",
    "df1[\"ethnicity_descr\"].fillna(value = df1[\"ethnicity_descr\"].mode()[0], inplace = True)\n",
    "\n",
    "df1[\"overall_payor_group_descr\"].fillna(value = df1[\"overall_payor_group_descr\"].mode()[0], inplace = True)\n",
    "\n",
    "df1[\"religion_descr\"].fillna(value = df1[\"religion_descr\"].mode()[0], inplace = True)\n",
    "\n",
    "df1[\"admission_type_descr\"].fillna(value = df1[\"admission_type_descr\"].mode()[0], inplace = True)\n",
    "\n",
    "df1[\"seasons\"].fillna(value = df1[\"seasons\"].mode()[0], inplace = True)"
   ]
  },
  {
   "cell_type": "code",
   "execution_count": 134,
   "id": "23c0e81c",
   "metadata": {},
   "outputs": [
    {
     "data": {
      "text/plain": [
       "hadm_id                      36\n",
       "sex                           0\n",
       "age_at_adm                    0\n",
       "category                      0\n",
       "subject_id                    0\n",
       "marital_status_descr          0\n",
       "ethnicity_descr               0\n",
       "overall_payor_group_descr     0\n",
       "religion_descr                0\n",
       "admission_type_descr          0\n",
       "seasons                       0\n",
       "icustay_id                   17\n",
       "Pulse_BPM                     0\n",
       "Resp_Rate_BPM                 0\n",
       "Temp_F                        0\n",
       "Sys_BP_mmHg                   0\n",
       "Dia_BP_mmHg                   0\n",
       "dtype: int64"
      ]
     },
     "execution_count": 134,
     "metadata": {},
     "output_type": "execute_result"
    }
   ],
   "source": [
    "df1.isna().sum()"
   ]
  },
  {
   "cell_type": "code",
   "execution_count": 135,
   "id": "9cd47f81",
   "metadata": {},
   "outputs": [
    {
     "data": {
      "text/html": [
       "<div>\n",
       "<style scoped>\n",
       "    .dataframe tbody tr th:only-of-type {\n",
       "        vertical-align: middle;\n",
       "    }\n",
       "\n",
       "    .dataframe tbody tr th {\n",
       "        vertical-align: top;\n",
       "    }\n",
       "\n",
       "    .dataframe thead th {\n",
       "        text-align: right;\n",
       "    }\n",
       "</style>\n",
       "<table border=\"1\" class=\"dataframe\">\n",
       "  <thead>\n",
       "    <tr style=\"text-align: right;\">\n",
       "      <th></th>\n",
       "      <th>hadm_id</th>\n",
       "      <th>sex</th>\n",
       "      <th>age_at_adm</th>\n",
       "      <th>category</th>\n",
       "      <th>subject_id</th>\n",
       "      <th>marital_status_descr</th>\n",
       "      <th>ethnicity_descr</th>\n",
       "      <th>overall_payor_group_descr</th>\n",
       "      <th>religion_descr</th>\n",
       "      <th>admission_type_descr</th>\n",
       "      <th>seasons</th>\n",
       "      <th>icustay_id</th>\n",
       "      <th>Pulse_BPM</th>\n",
       "      <th>Resp_Rate_BPM</th>\n",
       "      <th>Temp_F</th>\n",
       "      <th>Sys_BP_mmHg</th>\n",
       "      <th>Dia_BP_mmHg</th>\n",
       "    </tr>\n",
       "  </thead>\n",
       "  <tbody>\n",
       "    <tr>\n",
       "      <th>0</th>\n",
       "      <td>28766.0</td>\n",
       "      <td>F</td>\n",
       "      <td>90.0</td>\n",
       "      <td>Neoplasms</td>\n",
       "      <td>56</td>\n",
       "      <td>MARRIED</td>\n",
       "      <td>WHITE</td>\n",
       "      <td>MEDICARE-PRIVATE</td>\n",
       "      <td>NOT SPECIFIED</td>\n",
       "      <td>EMERGENCY</td>\n",
       "      <td>winter</td>\n",
       "      <td>62.0</td>\n",
       "      <td>74.0</td>\n",
       "      <td>24.0</td>\n",
       "      <td>95.500000</td>\n",
       "      <td>141.0</td>\n",
       "      <td>56.0</td>\n",
       "    </tr>\n",
       "    <tr>\n",
       "      <th>1</th>\n",
       "      <td>2075.0</td>\n",
       "      <td>M</td>\n",
       "      <td>76.0</td>\n",
       "      <td>Infectious diseases</td>\n",
       "      <td>3</td>\n",
       "      <td>MARRIED</td>\n",
       "      <td>WHITE</td>\n",
       "      <td>MEDICARE</td>\n",
       "      <td>CATHOLIC</td>\n",
       "      <td>EMERGENCY</td>\n",
       "      <td>autumn</td>\n",
       "      <td>4.0</td>\n",
       "      <td>151.0</td>\n",
       "      <td>5.0</td>\n",
       "      <td>98.199997</td>\n",
       "      <td>78.0</td>\n",
       "      <td>49.0</td>\n",
       "    </tr>\n",
       "    <tr>\n",
       "      <th>2</th>\n",
       "      <td>20666.0</td>\n",
       "      <td>M</td>\n",
       "      <td>87.0</td>\n",
       "      <td>Ischemic heart disease</td>\n",
       "      <td>21</td>\n",
       "      <td>MARRIED</td>\n",
       "      <td>WHITE</td>\n",
       "      <td>MEDICARE</td>\n",
       "      <td>JEWISH</td>\n",
       "      <td>EMERGENCY</td>\n",
       "      <td>autumn</td>\n",
       "      <td>23.0</td>\n",
       "      <td>77.0</td>\n",
       "      <td>16.0</td>\n",
       "      <td>98.199997</td>\n",
       "      <td>107.0</td>\n",
       "      <td>49.0</td>\n",
       "    </tr>\n",
       "    <tr>\n",
       "      <th>3</th>\n",
       "      <td>12532.0</td>\n",
       "      <td>M</td>\n",
       "      <td>72.0</td>\n",
       "      <td>Neoplasms</td>\n",
       "      <td>12</td>\n",
       "      <td>MARRIED</td>\n",
       "      <td>WHITE</td>\n",
       "      <td>MEDICARE</td>\n",
       "      <td>JEWISH</td>\n",
       "      <td>ELECTIVE</td>\n",
       "      <td>autumn</td>\n",
       "      <td>13.0</td>\n",
       "      <td>88.0</td>\n",
       "      <td>12.0</td>\n",
       "      <td>96.300003</td>\n",
       "      <td>123.0</td>\n",
       "      <td>68.0</td>\n",
       "    </tr>\n",
       "    <tr>\n",
       "      <th>4</th>\n",
       "      <td>15067.0</td>\n",
       "      <td>M</td>\n",
       "      <td>72.0</td>\n",
       "      <td>Other forms of heart disease</td>\n",
       "      <td>26</td>\n",
       "      <td>SINGLE</td>\n",
       "      <td>UNKNOWN/NOT SPECIFIED</td>\n",
       "      <td>MEDICARE</td>\n",
       "      <td>CATHOLIC</td>\n",
       "      <td>EMERGENCY</td>\n",
       "      <td>spring</td>\n",
       "      <td>29.0</td>\n",
       "      <td>60.0</td>\n",
       "      <td>18.0</td>\n",
       "      <td>99.699997</td>\n",
       "      <td>102.0</td>\n",
       "      <td>45.0</td>\n",
       "    </tr>\n",
       "    <tr>\n",
       "      <th>...</th>\n",
       "      <td>...</td>\n",
       "      <td>...</td>\n",
       "      <td>...</td>\n",
       "      <td>...</td>\n",
       "      <td>...</td>\n",
       "      <td>...</td>\n",
       "      <td>...</td>\n",
       "      <td>...</td>\n",
       "      <td>...</td>\n",
       "      <td>...</td>\n",
       "      <td>...</td>\n",
       "      <td>...</td>\n",
       "      <td>...</td>\n",
       "      <td>...</td>\n",
       "      <td>...</td>\n",
       "      <td>...</td>\n",
       "      <td>...</td>\n",
       "    </tr>\n",
       "    <tr>\n",
       "      <th>3466</th>\n",
       "      <td>35514.0</td>\n",
       "      <td>M</td>\n",
       "      <td>57.0</td>\n",
       "      <td>Infectious diseases</td>\n",
       "      <td>32675</td>\n",
       "      <td>SEPARATED</td>\n",
       "      <td>BLACK/AFRICAN AMERICAN</td>\n",
       "      <td>MEDICAID</td>\n",
       "      <td>NOT SPECIFIED</td>\n",
       "      <td>EMERGENCY</td>\n",
       "      <td>spring</td>\n",
       "      <td>47381.0</td>\n",
       "      <td>109.0</td>\n",
       "      <td>21.0</td>\n",
       "      <td>97.400002</td>\n",
       "      <td>98.0</td>\n",
       "      <td>47.0</td>\n",
       "    </tr>\n",
       "    <tr>\n",
       "      <th>3467</th>\n",
       "      <td>33139.0</td>\n",
       "      <td>F</td>\n",
       "      <td>33.0</td>\n",
       "      <td>Cerebrovascular disease</td>\n",
       "      <td>32637</td>\n",
       "      <td>DIVORCED</td>\n",
       "      <td>WHITE</td>\n",
       "      <td>MEDICAID</td>\n",
       "      <td>CATHOLIC</td>\n",
       "      <td>EMERGENCY</td>\n",
       "      <td>summer</td>\n",
       "      <td>47337.0</td>\n",
       "      <td>49.0</td>\n",
       "      <td>12.0</td>\n",
       "      <td>95.400002</td>\n",
       "      <td>82.0</td>\n",
       "      <td>55.0</td>\n",
       "    </tr>\n",
       "    <tr>\n",
       "      <th>3468</th>\n",
       "      <td>33007.0</td>\n",
       "      <td>M</td>\n",
       "      <td>79.0</td>\n",
       "      <td>Pulmonary disease</td>\n",
       "      <td>32763</td>\n",
       "      <td>MARRIED</td>\n",
       "      <td>WHITE</td>\n",
       "      <td>MEDICARE</td>\n",
       "      <td>CATHOLIC</td>\n",
       "      <td>EMERGENCY</td>\n",
       "      <td>summer</td>\n",
       "      <td>47473.0</td>\n",
       "      <td>93.0</td>\n",
       "      <td>24.0</td>\n",
       "      <td>99.400002</td>\n",
       "      <td>100.0</td>\n",
       "      <td>52.0</td>\n",
       "    </tr>\n",
       "    <tr>\n",
       "      <th>3469</th>\n",
       "      <td>30102.0</td>\n",
       "      <td>M</td>\n",
       "      <td>68.0</td>\n",
       "      <td>Pulmonary disease</td>\n",
       "      <td>32686</td>\n",
       "      <td>MARRIED</td>\n",
       "      <td>WHITE</td>\n",
       "      <td>PRIVATE</td>\n",
       "      <td>UNOBTAINABLE</td>\n",
       "      <td>EMERGENCY</td>\n",
       "      <td>spring</td>\n",
       "      <td>47394.0</td>\n",
       "      <td>70.0</td>\n",
       "      <td>25.0</td>\n",
       "      <td>96.699997</td>\n",
       "      <td>146.0</td>\n",
       "      <td>71.0</td>\n",
       "    </tr>\n",
       "    <tr>\n",
       "      <th>3470</th>\n",
       "      <td>36069.0</td>\n",
       "      <td>F</td>\n",
       "      <td>85.0</td>\n",
       "      <td>Arteries &amp; veins</td>\n",
       "      <td>32711</td>\n",
       "      <td>MARRIED</td>\n",
       "      <td>WHITE</td>\n",
       "      <td>MEDICARE</td>\n",
       "      <td>NOT SPECIFIED</td>\n",
       "      <td>EMERGENCY</td>\n",
       "      <td>spring</td>\n",
       "      <td>47421.0</td>\n",
       "      <td>106.0</td>\n",
       "      <td>20.0</td>\n",
       "      <td>96.800003</td>\n",
       "      <td>111.0</td>\n",
       "      <td>79.0</td>\n",
       "    </tr>\n",
       "  </tbody>\n",
       "</table>\n",
       "<p>3471 rows × 17 columns</p>\n",
       "</div>"
      ],
      "text/plain": [
       "      hadm_id sex  age_at_adm                      category  subject_id  \\\n",
       "0     28766.0   F        90.0                     Neoplasms          56   \n",
       "1      2075.0   M        76.0           Infectious diseases           3   \n",
       "2     20666.0   M        87.0        Ischemic heart disease          21   \n",
       "3     12532.0   M        72.0                     Neoplasms          12   \n",
       "4     15067.0   M        72.0  Other forms of heart disease          26   \n",
       "...       ...  ..         ...                           ...         ...   \n",
       "3466  35514.0   M        57.0           Infectious diseases       32675   \n",
       "3467  33139.0   F        33.0       Cerebrovascular disease       32637   \n",
       "3468  33007.0   M        79.0             Pulmonary disease       32763   \n",
       "3469  30102.0   M        68.0             Pulmonary disease       32686   \n",
       "3470  36069.0   F        85.0              Arteries & veins       32711   \n",
       "\n",
       "     marital_status_descr         ethnicity_descr overall_payor_group_descr  \\\n",
       "0                 MARRIED                   WHITE          MEDICARE-PRIVATE   \n",
       "1                 MARRIED                   WHITE                  MEDICARE   \n",
       "2                 MARRIED                   WHITE                  MEDICARE   \n",
       "3                 MARRIED                   WHITE                  MEDICARE   \n",
       "4                  SINGLE   UNKNOWN/NOT SPECIFIED                  MEDICARE   \n",
       "...                   ...                     ...                       ...   \n",
       "3466            SEPARATED  BLACK/AFRICAN AMERICAN                  MEDICAID   \n",
       "3467             DIVORCED                   WHITE                  MEDICAID   \n",
       "3468              MARRIED                   WHITE                  MEDICARE   \n",
       "3469              MARRIED                   WHITE                   PRIVATE   \n",
       "3470              MARRIED                   WHITE                  MEDICARE   \n",
       "\n",
       "     religion_descr admission_type_descr seasons  icustay_id  Pulse_BPM  \\\n",
       "0     NOT SPECIFIED            EMERGENCY  winter        62.0       74.0   \n",
       "1          CATHOLIC            EMERGENCY  autumn         4.0      151.0   \n",
       "2            JEWISH            EMERGENCY  autumn        23.0       77.0   \n",
       "3            JEWISH             ELECTIVE  autumn        13.0       88.0   \n",
       "4          CATHOLIC            EMERGENCY  spring        29.0       60.0   \n",
       "...             ...                  ...     ...         ...        ...   \n",
       "3466  NOT SPECIFIED            EMERGENCY  spring     47381.0      109.0   \n",
       "3467       CATHOLIC            EMERGENCY  summer     47337.0       49.0   \n",
       "3468       CATHOLIC            EMERGENCY  summer     47473.0       93.0   \n",
       "3469   UNOBTAINABLE            EMERGENCY  spring     47394.0       70.0   \n",
       "3470  NOT SPECIFIED            EMERGENCY  spring     47421.0      106.0   \n",
       "\n",
       "      Resp_Rate_BPM     Temp_F  Sys_BP_mmHg  Dia_BP_mmHg  \n",
       "0              24.0  95.500000        141.0         56.0  \n",
       "1               5.0  98.199997         78.0         49.0  \n",
       "2              16.0  98.199997        107.0         49.0  \n",
       "3              12.0  96.300003        123.0         68.0  \n",
       "4              18.0  99.699997        102.0         45.0  \n",
       "...             ...        ...          ...          ...  \n",
       "3466           21.0  97.400002         98.0         47.0  \n",
       "3467           12.0  95.400002         82.0         55.0  \n",
       "3468           24.0  99.400002        100.0         52.0  \n",
       "3469           25.0  96.699997        146.0         71.0  \n",
       "3470           20.0  96.800003        111.0         79.0  \n",
       "\n",
       "[3471 rows x 17 columns]"
      ]
     },
     "execution_count": 135,
     "metadata": {},
     "output_type": "execute_result"
    }
   ],
   "source": [
    "df1"
   ]
  },
  {
   "cell_type": "code",
   "execution_count": 1,
   "id": "47f06066",
   "metadata": {},
   "outputs": [
    {
     "ename": "NameError",
     "evalue": "name 'df1' is not defined",
     "output_type": "error",
     "traceback": [
      "\u001b[1;31m---------------------------------------------------------------------------\u001b[0m",
      "\u001b[1;31mNameError\u001b[0m                                 Traceback (most recent call last)",
      "Input \u001b[1;32mIn [1]\u001b[0m, in \u001b[0;36m<cell line: 1>\u001b[1;34m()\u001b[0m\n\u001b[1;32m----> 1\u001b[0m \u001b[43mdf1\u001b[49m\u001b[38;5;241m.\u001b[39mto_csv(\u001b[38;5;124m\"\u001b[39m\u001b[38;5;124mData_Foe_ML.csv\u001b[39m\u001b[38;5;124m\"\u001b[39m, index \u001b[38;5;241m=\u001b[39m \u001b[38;5;28;01mFalse\u001b[39;00m)\n",
      "\u001b[1;31mNameError\u001b[0m: name 'df1' is not defined"
     ]
    }
   ],
   "source": [
    "df1.to_csv(\"Data_For_ML.csv\", index = False)"
   ]
  },
  {
   "cell_type": "code",
   "execution_count": null,
   "id": "06c8de3b",
   "metadata": {},
   "outputs": [],
   "source": []
  }
 ],
 "metadata": {
  "kernelspec": {
   "display_name": "Python 3 (ipykernel)",
   "language": "python",
   "name": "python3"
  },
  "language_info": {
   "codemirror_mode": {
    "name": "ipython",
    "version": 3
   },
   "file_extension": ".py",
   "mimetype": "text/x-python",
   "name": "python",
   "nbconvert_exporter": "python",
   "pygments_lexer": "ipython3",
   "version": "3.9.12"
  }
 },
 "nbformat": 4,
 "nbformat_minor": 5
}
