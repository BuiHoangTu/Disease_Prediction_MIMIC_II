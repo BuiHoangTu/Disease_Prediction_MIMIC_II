{
 "cells": [
  {
   "cell_type": "code",
   "execution_count": 1,
   "id": "a6653d41",
   "metadata": {},
   "outputs": [],
   "source": [
    "import pandas as pd\n",
    "import numpy as np"
   ]
  },
  {
   "cell_type": "code",
   "execution_count": 33,
   "id": "9aee6928",
   "metadata": {},
   "outputs": [],
   "source": [
    "# Variables \n",
    "MIMIC_PATH = \"../mimiciv2.2/hosp/\"\n",
    "POST_PROCESS_PATH = \"./post_process/\"\n",
    "\n",
    "# make the POST_PROCESS_PATH\n",
    "from pathlib import Path\n",
    "Path(POST_PROCESS_PATH).mkdir(parents=True, exist_ok=True)"
   ]
  },
  {
   "cell_type": "code",
   "execution_count": 3,
   "id": "175182f6",
   "metadata": {},
   "outputs": [],
   "source": [
    "pat_df = pd.read_csv(MIMIC_PATH + \"patients.csv\",  usecols=['subject_id', 'gender', 'anchor_age'], index_col='subject_id')"
   ]
  },
  {
   "cell_type": "code",
   "execution_count": 4,
   "id": "6ebddb12",
   "metadata": {},
   "outputs": [
    {
     "data": {
      "text/plain": [
       "(299712, 2)"
      ]
     },
     "execution_count": 4,
     "metadata": {},
     "output_type": "execute_result"
    }
   ],
   "source": [
    "pat_df.shape"
   ]
  },
  {
   "cell_type": "code",
   "execution_count": 5,
   "id": "886a49f0",
   "metadata": {},
   "outputs": [
    {
     "data": {
      "text/plain": [
       "18"
      ]
     },
     "execution_count": 5,
     "metadata": {},
     "output_type": "execute_result"
    }
   ],
   "source": [
    "pat_df[\"anchor_age\"].min()"
   ]
  },
  {
   "cell_type": "code",
   "execution_count": 6,
   "id": "83fbd4c9",
   "metadata": {},
   "outputs": [
    {
     "data": {
      "text/plain": [
       "91"
      ]
     },
     "execution_count": 6,
     "metadata": {},
     "output_type": "execute_result"
    }
   ],
   "source": [
    "pat_df[\"anchor_age\"].max()"
   ]
  },
  {
   "cell_type": "code",
   "execution_count": 7,
   "id": "543e4f82",
   "metadata": {},
   "outputs": [
    {
     "name": "stdout",
     "output_type": "stream",
     "text": [
      "<class 'pandas.core.frame.DataFrame'>\n",
      "Index: 299712 entries, 10000032 to 19999987\n",
      "Data columns (total 2 columns):\n",
      " #   Column      Non-Null Count   Dtype \n",
      "---  ------      --------------   ----- \n",
      " 0   gender      299712 non-null  object\n",
      " 1   anchor_age  299712 non-null  int64 \n",
      "dtypes: int64(1), object(1)\n",
      "memory usage: 6.9+ MB\n"
     ]
    }
   ],
   "source": [
    "pat_df.info()"
   ]
  },
  {
   "cell_type": "code",
   "execution_count": 8,
   "id": "4c87ad49",
   "metadata": {},
   "outputs": [
    {
     "data": {
      "text/plain": [
       "299712"
      ]
     },
     "execution_count": 8,
     "metadata": {},
     "output_type": "execute_result"
    }
   ],
   "source": [
    "pat_df.index.nunique()"
   ]
  },
  {
   "cell_type": "markdown",
   "id": "f6653875",
   "metadata": {},
   "source": [
    "## Admission File"
   ]
  },
  {
   "cell_type": "code",
   "execution_count": 9,
   "id": "ab56e3bf",
   "metadata": {},
   "outputs": [
    {
     "data": {
      "text/html": [
       "<div>\n",
       "<style scoped>\n",
       "    .dataframe tbody tr th:only-of-type {\n",
       "        vertical-align: middle;\n",
       "    }\n",
       "\n",
       "    .dataframe tbody tr th {\n",
       "        vertical-align: top;\n",
       "    }\n",
       "\n",
       "    .dataframe thead th {\n",
       "        text-align: right;\n",
       "    }\n",
       "</style>\n",
       "<table border=\"1\" class=\"dataframe\">\n",
       "  <thead>\n",
       "    <tr style=\"text-align: right;\">\n",
       "      <th></th>\n",
       "      <th>hadm_id</th>\n",
       "      <th>admittime</th>\n",
       "    </tr>\n",
       "    <tr>\n",
       "      <th>subject_id</th>\n",
       "      <th></th>\n",
       "      <th></th>\n",
       "    </tr>\n",
       "  </thead>\n",
       "  <tbody>\n",
       "    <tr>\n",
       "      <th>10000032</th>\n",
       "      <td>22595853</td>\n",
       "      <td>2180-05-06 22:23:00</td>\n",
       "    </tr>\n",
       "    <tr>\n",
       "      <th>10000032</th>\n",
       "      <td>22841357</td>\n",
       "      <td>2180-06-26 18:27:00</td>\n",
       "    </tr>\n",
       "    <tr>\n",
       "      <th>10000032</th>\n",
       "      <td>25742920</td>\n",
       "      <td>2180-08-05 23:44:00</td>\n",
       "    </tr>\n",
       "    <tr>\n",
       "      <th>10000032</th>\n",
       "      <td>29079034</td>\n",
       "      <td>2180-07-23 12:35:00</td>\n",
       "    </tr>\n",
       "    <tr>\n",
       "      <th>10000068</th>\n",
       "      <td>25022803</td>\n",
       "      <td>2160-03-03 23:16:00</td>\n",
       "    </tr>\n",
       "  </tbody>\n",
       "</table>\n",
       "</div>"
      ],
      "text/plain": [
       "             hadm_id           admittime\n",
       "subject_id                              \n",
       "10000032    22595853 2180-05-06 22:23:00\n",
       "10000032    22841357 2180-06-26 18:27:00\n",
       "10000032    25742920 2180-08-05 23:44:00\n",
       "10000032    29079034 2180-07-23 12:35:00\n",
       "10000068    25022803 2160-03-03 23:16:00"
      ]
     },
     "execution_count": 9,
     "metadata": {},
     "output_type": "execute_result"
    }
   ],
   "source": [
    "adm_df = pd.read_csv(MIMIC_PATH + \"admissions.csv\", usecols=['subject_id', 'admittime', 'hadm_id'], index_col='subject_id', parse_dates=['admittime'])\n",
    "adm_df.head()"
   ]
  },
  {
   "cell_type": "code",
   "execution_count": 10,
   "metadata": {},
   "outputs": [
    {
     "data": {
      "text/html": [
       "<div>\n",
       "<style scoped>\n",
       "    .dataframe tbody tr th:only-of-type {\n",
       "        vertical-align: middle;\n",
       "    }\n",
       "\n",
       "    .dataframe tbody tr th {\n",
       "        vertical-align: top;\n",
       "    }\n",
       "\n",
       "    .dataframe thead th {\n",
       "        text-align: right;\n",
       "    }\n",
       "</style>\n",
       "<table border=\"1\" class=\"dataframe\">\n",
       "  <thead>\n",
       "    <tr style=\"text-align: right;\">\n",
       "      <th></th>\n",
       "      <th>hadm_id</th>\n",
       "      <th>admittime</th>\n",
       "    </tr>\n",
       "    <tr>\n",
       "      <th>subject_id</th>\n",
       "      <th></th>\n",
       "      <th></th>\n",
       "    </tr>\n",
       "  </thead>\n",
       "  <tbody>\n",
       "    <tr>\n",
       "      <th>10000032</th>\n",
       "      <td>22595853</td>\n",
       "      <td>2180-05-06</td>\n",
       "    </tr>\n",
       "    <tr>\n",
       "      <th>10000032</th>\n",
       "      <td>22841357</td>\n",
       "      <td>2180-06-26</td>\n",
       "    </tr>\n",
       "    <tr>\n",
       "      <th>10000032</th>\n",
       "      <td>25742920</td>\n",
       "      <td>2180-08-05</td>\n",
       "    </tr>\n",
       "    <tr>\n",
       "      <th>10000032</th>\n",
       "      <td>29079034</td>\n",
       "      <td>2180-07-23</td>\n",
       "    </tr>\n",
       "    <tr>\n",
       "      <th>10000068</th>\n",
       "      <td>25022803</td>\n",
       "      <td>2160-03-03</td>\n",
       "    </tr>\n",
       "  </tbody>\n",
       "</table>\n",
       "</div>"
      ],
      "text/plain": [
       "             hadm_id   admittime\n",
       "subject_id                      \n",
       "10000032    22595853  2180-05-06\n",
       "10000032    22841357  2180-06-26\n",
       "10000032    25742920  2180-08-05\n",
       "10000032    29079034  2180-07-23\n",
       "10000068    25022803  2160-03-03"
      ]
     },
     "execution_count": 10,
     "metadata": {},
     "output_type": "execute_result"
    }
   ],
   "source": [
    "# remove day_time of admissions \n",
    "# TODO: Does datetime need reducing ?\n",
    "adm_df[\"admittime\"] = adm_df[\"admittime\"].dt.date\n",
    "adm_df.head()"
   ]
  },
  {
   "cell_type": "code",
   "execution_count": 11,
   "id": "0f8eadc3",
   "metadata": {},
   "outputs": [
    {
     "data": {
      "text/plain": [
       "(431231, 2)"
      ]
     },
     "execution_count": 11,
     "metadata": {},
     "output_type": "execute_result"
    }
   ],
   "source": [
    "adm_df.shape"
   ]
  },
  {
   "cell_type": "code",
   "execution_count": 12,
   "id": "905cbcc3",
   "metadata": {},
   "outputs": [
    {
     "data": {
      "text/plain": [
       "180733"
      ]
     },
     "execution_count": 12,
     "metadata": {},
     "output_type": "execute_result"
    }
   ],
   "source": [
    "adm_df.index.nunique()"
   ]
  },
  {
   "cell_type": "code",
   "execution_count": 13,
   "id": "8580a003",
   "metadata": {},
   "outputs": [
    {
     "data": {
      "text/html": [
       "<div>\n",
       "<style scoped>\n",
       "    .dataframe tbody tr th:only-of-type {\n",
       "        vertical-align: middle;\n",
       "    }\n",
       "\n",
       "    .dataframe tbody tr th {\n",
       "        vertical-align: top;\n",
       "    }\n",
       "\n",
       "    .dataframe thead th {\n",
       "        text-align: right;\n",
       "    }\n",
       "</style>\n",
       "<table border=\"1\" class=\"dataframe\">\n",
       "  <thead>\n",
       "    <tr style=\"text-align: right;\">\n",
       "      <th></th>\n",
       "      <th>subject_id</th>\n",
       "      <th>hadm_id</th>\n",
       "      <th>admittime</th>\n",
       "    </tr>\n",
       "  </thead>\n",
       "  <tbody>\n",
       "    <tr>\n",
       "      <th>0</th>\n",
       "      <td>10000032</td>\n",
       "      <td>22595853</td>\n",
       "      <td>2180-05-06</td>\n",
       "    </tr>\n",
       "    <tr>\n",
       "      <th>4</th>\n",
       "      <td>10000068</td>\n",
       "      <td>25022803</td>\n",
       "      <td>2160-03-03</td>\n",
       "    </tr>\n",
       "    <tr>\n",
       "      <th>5</th>\n",
       "      <td>10000084</td>\n",
       "      <td>23052089</td>\n",
       "      <td>2160-11-21</td>\n",
       "    </tr>\n",
       "    <tr>\n",
       "      <th>7</th>\n",
       "      <td>10000108</td>\n",
       "      <td>27250926</td>\n",
       "      <td>2163-09-27</td>\n",
       "    </tr>\n",
       "    <tr>\n",
       "      <th>8</th>\n",
       "      <td>10000117</td>\n",
       "      <td>22927623</td>\n",
       "      <td>2181-11-15</td>\n",
       "    </tr>\n",
       "    <tr>\n",
       "      <th>...</th>\n",
       "      <td>...</td>\n",
       "      <td>...</td>\n",
       "      <td>...</td>\n",
       "    </tr>\n",
       "    <tr>\n",
       "      <th>431207</th>\n",
       "      <td>19999733</td>\n",
       "      <td>27674281</td>\n",
       "      <td>2152-07-08</td>\n",
       "    </tr>\n",
       "    <tr>\n",
       "      <th>431217</th>\n",
       "      <td>19999784</td>\n",
       "      <td>26194817</td>\n",
       "      <td>2119-06-18</td>\n",
       "    </tr>\n",
       "    <tr>\n",
       "      <th>431227</th>\n",
       "      <td>19999828</td>\n",
       "      <td>29734428</td>\n",
       "      <td>2147-07-18</td>\n",
       "    </tr>\n",
       "    <tr>\n",
       "      <th>431229</th>\n",
       "      <td>19999840</td>\n",
       "      <td>26071774</td>\n",
       "      <td>2164-07-25</td>\n",
       "    </tr>\n",
       "    <tr>\n",
       "      <th>431230</th>\n",
       "      <td>19999987</td>\n",
       "      <td>23865745</td>\n",
       "      <td>2145-11-02</td>\n",
       "    </tr>\n",
       "  </tbody>\n",
       "</table>\n",
       "<p>180733 rows × 3 columns</p>\n",
       "</div>"
      ],
      "text/plain": [
       "        subject_id   hadm_id   admittime\n",
       "0         10000032  22595853  2180-05-06\n",
       "4         10000068  25022803  2160-03-03\n",
       "5         10000084  23052089  2160-11-21\n",
       "7         10000108  27250926  2163-09-27\n",
       "8         10000117  22927623  2181-11-15\n",
       "...            ...       ...         ...\n",
       "431207    19999733  27674281  2152-07-08\n",
       "431217    19999784  26194817  2119-06-18\n",
       "431227    19999828  29734428  2147-07-18\n",
       "431229    19999840  26071774  2164-07-25\n",
       "431230    19999987  23865745  2145-11-02\n",
       "\n",
       "[180733 rows x 3 columns]"
      ]
     },
     "execution_count": 13,
     "metadata": {},
     "output_type": "execute_result"
    }
   ],
   "source": [
    "adm_sorted_df = adm_df.reset_index().sort_values([\"subject_id\", \"admittime\"]).drop_duplicates(\"subject_id\")\n",
    "adm_sorted_df"
   ]
  },
  {
   "cell_type": "code",
   "execution_count": 14,
   "id": "0c769c43",
   "metadata": {},
   "outputs": [
    {
     "data": {
      "text/plain": [
       "0         2180-05-06\n",
       "4         2160-03-03\n",
       "5         2160-11-21\n",
       "7         2163-09-27\n",
       "8         2181-11-15\n",
       "             ...    \n",
       "431207    2152-07-08\n",
       "431217    2119-06-18\n",
       "431227    2147-07-18\n",
       "431229    2164-07-25\n",
       "431230    2145-11-02\n",
       "Name: admittime, Length: 180733, dtype: object"
      ]
     },
     "execution_count": 14,
     "metadata": {},
     "output_type": "execute_result"
    }
   ],
   "source": [
    "adm_sorted_df['admittime']"
   ]
  },
  {
   "cell_type": "code",
   "execution_count": 15,
   "id": "79f963f0",
   "metadata": {},
   "outputs": [
    {
     "data": {
      "text/plain": [
       "subject_id\n",
       "10000032    52\n",
       "10000048    23\n",
       "10000068    19\n",
       "10000084    72\n",
       "10000102    27\n",
       "            ..\n",
       "19999828    46\n",
       "19999829    28\n",
       "19999840    58\n",
       "19999914    49\n",
       "19999987    57\n",
       "Name: anchor_age, Length: 299712, dtype: int64"
      ]
     },
     "execution_count": 15,
     "metadata": {},
     "output_type": "execute_result"
    }
   ],
   "source": [
    "pat_df[\"anchor_age\"]"
   ]
  },
  {
   "cell_type": "code",
   "execution_count": 16,
   "id": "4be7c7c4",
   "metadata": {},
   "outputs": [
    {
     "data": {
      "text/html": [
       "<div>\n",
       "<style scoped>\n",
       "    .dataframe tbody tr th:only-of-type {\n",
       "        vertical-align: middle;\n",
       "    }\n",
       "\n",
       "    .dataframe tbody tr th {\n",
       "        vertical-align: top;\n",
       "    }\n",
       "\n",
       "    .dataframe thead th {\n",
       "        text-align: right;\n",
       "    }\n",
       "</style>\n",
       "<table border=\"1\" class=\"dataframe\">\n",
       "  <thead>\n",
       "    <tr style=\"text-align: right;\">\n",
       "      <th></th>\n",
       "      <th>subject_id</th>\n",
       "      <th>hadm_id</th>\n",
       "      <th>admittime</th>\n",
       "    </tr>\n",
       "  </thead>\n",
       "  <tbody>\n",
       "    <tr>\n",
       "      <th>0</th>\n",
       "      <td>10000032</td>\n",
       "      <td>22595853</td>\n",
       "      <td>2180-05-06</td>\n",
       "    </tr>\n",
       "  </tbody>\n",
       "</table>\n",
       "</div>"
      ],
      "text/plain": [
       "   subject_id   hadm_id   admittime\n",
       "0    10000032  22595853  2180-05-06"
      ]
     },
     "execution_count": 16,
     "metadata": {},
     "output_type": "execute_result"
    }
   ],
   "source": [
    "adm_sorted_df.head(1)"
   ]
  },
  {
   "cell_type": "code",
   "execution_count": 17,
   "id": "d489bf8e",
   "metadata": {},
   "outputs": [
    {
     "data": {
      "text/html": [
       "<div>\n",
       "<style scoped>\n",
       "    .dataframe tbody tr th:only-of-type {\n",
       "        vertical-align: middle;\n",
       "    }\n",
       "\n",
       "    .dataframe tbody tr th {\n",
       "        vertical-align: top;\n",
       "    }\n",
       "\n",
       "    .dataframe thead th {\n",
       "        text-align: right;\n",
       "    }\n",
       "</style>\n",
       "<table border=\"1\" class=\"dataframe\">\n",
       "  <thead>\n",
       "    <tr style=\"text-align: right;\">\n",
       "      <th></th>\n",
       "      <th>gender</th>\n",
       "      <th>anchor_age</th>\n",
       "    </tr>\n",
       "    <tr>\n",
       "      <th>subject_id</th>\n",
       "      <th></th>\n",
       "      <th></th>\n",
       "    </tr>\n",
       "  </thead>\n",
       "  <tbody>\n",
       "    <tr>\n",
       "      <th>10000032</th>\n",
       "      <td>F</td>\n",
       "      <td>52</td>\n",
       "    </tr>\n",
       "  </tbody>\n",
       "</table>\n",
       "</div>"
      ],
      "text/plain": [
       "           gender  anchor_age\n",
       "subject_id                   \n",
       "10000032        F          52"
      ]
     },
     "execution_count": 17,
     "metadata": {},
     "output_type": "execute_result"
    }
   ],
   "source": [
    "pat_df.head(1)"
   ]
  },
  {
   "cell_type": "code",
   "execution_count": 18,
   "id": "aaeb5aea",
   "metadata": {},
   "outputs": [
    {
     "data": {
      "text/html": [
       "<div>\n",
       "<style scoped>\n",
       "    .dataframe tbody tr th:only-of-type {\n",
       "        vertical-align: middle;\n",
       "    }\n",
       "\n",
       "    .dataframe tbody tr th {\n",
       "        vertical-align: top;\n",
       "    }\n",
       "\n",
       "    .dataframe thead th {\n",
       "        text-align: right;\n",
       "    }\n",
       "</style>\n",
       "<table border=\"1\" class=\"dataframe\">\n",
       "  <thead>\n",
       "    <tr style=\"text-align: right;\">\n",
       "      <th></th>\n",
       "      <th>subject_id</th>\n",
       "      <th>hadm_id</th>\n",
       "      <th>admittime</th>\n",
       "      <th>gender</th>\n",
       "      <th>anchor_age</th>\n",
       "    </tr>\n",
       "  </thead>\n",
       "  <tbody>\n",
       "    <tr>\n",
       "      <th>0</th>\n",
       "      <td>10000032</td>\n",
       "      <td>22595853</td>\n",
       "      <td>2180-05-06</td>\n",
       "      <td>F</td>\n",
       "      <td>52</td>\n",
       "    </tr>\n",
       "    <tr>\n",
       "      <th>1</th>\n",
       "      <td>10000068</td>\n",
       "      <td>25022803</td>\n",
       "      <td>2160-03-03</td>\n",
       "      <td>F</td>\n",
       "      <td>19</td>\n",
       "    </tr>\n",
       "    <tr>\n",
       "      <th>2</th>\n",
       "      <td>10000084</td>\n",
       "      <td>23052089</td>\n",
       "      <td>2160-11-21</td>\n",
       "      <td>M</td>\n",
       "      <td>72</td>\n",
       "    </tr>\n",
       "    <tr>\n",
       "      <th>3</th>\n",
       "      <td>10000108</td>\n",
       "      <td>27250926</td>\n",
       "      <td>2163-09-27</td>\n",
       "      <td>M</td>\n",
       "      <td>25</td>\n",
       "    </tr>\n",
       "    <tr>\n",
       "      <th>4</th>\n",
       "      <td>10000117</td>\n",
       "      <td>22927623</td>\n",
       "      <td>2181-11-15</td>\n",
       "      <td>F</td>\n",
       "      <td>48</td>\n",
       "    </tr>\n",
       "    <tr>\n",
       "      <th>...</th>\n",
       "      <td>...</td>\n",
       "      <td>...</td>\n",
       "      <td>...</td>\n",
       "      <td>...</td>\n",
       "      <td>...</td>\n",
       "    </tr>\n",
       "    <tr>\n",
       "      <th>180728</th>\n",
       "      <td>19999733</td>\n",
       "      <td>27674281</td>\n",
       "      <td>2152-07-08</td>\n",
       "      <td>F</td>\n",
       "      <td>19</td>\n",
       "    </tr>\n",
       "    <tr>\n",
       "      <th>180729</th>\n",
       "      <td>19999784</td>\n",
       "      <td>26194817</td>\n",
       "      <td>2119-06-18</td>\n",
       "      <td>M</td>\n",
       "      <td>57</td>\n",
       "    </tr>\n",
       "    <tr>\n",
       "      <th>180730</th>\n",
       "      <td>19999828</td>\n",
       "      <td>29734428</td>\n",
       "      <td>2147-07-18</td>\n",
       "      <td>F</td>\n",
       "      <td>46</td>\n",
       "    </tr>\n",
       "    <tr>\n",
       "      <th>180731</th>\n",
       "      <td>19999840</td>\n",
       "      <td>26071774</td>\n",
       "      <td>2164-07-25</td>\n",
       "      <td>M</td>\n",
       "      <td>58</td>\n",
       "    </tr>\n",
       "    <tr>\n",
       "      <th>180732</th>\n",
       "      <td>19999987</td>\n",
       "      <td>23865745</td>\n",
       "      <td>2145-11-02</td>\n",
       "      <td>F</td>\n",
       "      <td>57</td>\n",
       "    </tr>\n",
       "  </tbody>\n",
       "</table>\n",
       "<p>180733 rows × 5 columns</p>\n",
       "</div>"
      ],
      "text/plain": [
       "        subject_id   hadm_id   admittime gender  anchor_age\n",
       "0         10000032  22595853  2180-05-06      F          52\n",
       "1         10000068  25022803  2160-03-03      F          19\n",
       "2         10000084  23052089  2160-11-21      M          72\n",
       "3         10000108  27250926  2163-09-27      M          25\n",
       "4         10000117  22927623  2181-11-15      F          48\n",
       "...            ...       ...         ...    ...         ...\n",
       "180728    19999733  27674281  2152-07-08      F          19\n",
       "180729    19999784  26194817  2119-06-18      M          57\n",
       "180730    19999828  29734428  2147-07-18      F          46\n",
       "180731    19999840  26071774  2164-07-25      M          58\n",
       "180732    19999987  23865745  2145-11-02      F          57\n",
       "\n",
       "[180733 rows x 5 columns]"
      ]
     },
     "execution_count": 18,
     "metadata": {},
     "output_type": "execute_result"
    }
   ],
   "source": [
    "df7 = adm_sorted_df.merge(pat_df, left_on = \"subject_id\", right_on = pat_df.index, how = \"left\")\n",
    "df7"
   ]
  },
  {
   "cell_type": "markdown",
   "id": "57f43751",
   "metadata": {},
   "source": [
    "# Dropping redundant columns"
   ]
  },
  {
   "cell_type": "code",
   "execution_count": 30,
   "id": "e3938cde",
   "metadata": {},
   "outputs": [],
   "source": [
    "df7.reset_index(drop = True, inplace = True )"
   ]
  },
  {
   "cell_type": "code",
   "execution_count": 31,
   "id": "53f84128",
   "metadata": {},
   "outputs": [
    {
     "data": {
      "text/html": [
       "<div>\n",
       "<style scoped>\n",
       "    .dataframe tbody tr th:only-of-type {\n",
       "        vertical-align: middle;\n",
       "    }\n",
       "\n",
       "    .dataframe tbody tr th {\n",
       "        vertical-align: top;\n",
       "    }\n",
       "\n",
       "    .dataframe thead th {\n",
       "        text-align: right;\n",
       "    }\n",
       "</style>\n",
       "<table border=\"1\" class=\"dataframe\">\n",
       "  <thead>\n",
       "    <tr style=\"text-align: right;\">\n",
       "      <th></th>\n",
       "      <th>subject_id</th>\n",
       "      <th>hadm_id</th>\n",
       "      <th>admittime</th>\n",
       "      <th>gender</th>\n",
       "      <th>anchor_age</th>\n",
       "    </tr>\n",
       "  </thead>\n",
       "  <tbody>\n",
       "    <tr>\n",
       "      <th>0</th>\n",
       "      <td>10000032</td>\n",
       "      <td>22595853</td>\n",
       "      <td>2180-05-06</td>\n",
       "      <td>F</td>\n",
       "      <td>52</td>\n",
       "    </tr>\n",
       "    <tr>\n",
       "      <th>1</th>\n",
       "      <td>10000068</td>\n",
       "      <td>25022803</td>\n",
       "      <td>2160-03-03</td>\n",
       "      <td>F</td>\n",
       "      <td>19</td>\n",
       "    </tr>\n",
       "    <tr>\n",
       "      <th>2</th>\n",
       "      <td>10000084</td>\n",
       "      <td>23052089</td>\n",
       "      <td>2160-11-21</td>\n",
       "      <td>M</td>\n",
       "      <td>72</td>\n",
       "    </tr>\n",
       "    <tr>\n",
       "      <th>3</th>\n",
       "      <td>10000108</td>\n",
       "      <td>27250926</td>\n",
       "      <td>2163-09-27</td>\n",
       "      <td>M</td>\n",
       "      <td>25</td>\n",
       "    </tr>\n",
       "    <tr>\n",
       "      <th>4</th>\n",
       "      <td>10000117</td>\n",
       "      <td>22927623</td>\n",
       "      <td>2181-11-15</td>\n",
       "      <td>F</td>\n",
       "      <td>48</td>\n",
       "    </tr>\n",
       "    <tr>\n",
       "      <th>...</th>\n",
       "      <td>...</td>\n",
       "      <td>...</td>\n",
       "      <td>...</td>\n",
       "      <td>...</td>\n",
       "      <td>...</td>\n",
       "    </tr>\n",
       "    <tr>\n",
       "      <th>180728</th>\n",
       "      <td>19999733</td>\n",
       "      <td>27674281</td>\n",
       "      <td>2152-07-08</td>\n",
       "      <td>F</td>\n",
       "      <td>19</td>\n",
       "    </tr>\n",
       "    <tr>\n",
       "      <th>180729</th>\n",
       "      <td>19999784</td>\n",
       "      <td>26194817</td>\n",
       "      <td>2119-06-18</td>\n",
       "      <td>M</td>\n",
       "      <td>57</td>\n",
       "    </tr>\n",
       "    <tr>\n",
       "      <th>180730</th>\n",
       "      <td>19999828</td>\n",
       "      <td>29734428</td>\n",
       "      <td>2147-07-18</td>\n",
       "      <td>F</td>\n",
       "      <td>46</td>\n",
       "    </tr>\n",
       "    <tr>\n",
       "      <th>180731</th>\n",
       "      <td>19999840</td>\n",
       "      <td>26071774</td>\n",
       "      <td>2164-07-25</td>\n",
       "      <td>M</td>\n",
       "      <td>58</td>\n",
       "    </tr>\n",
       "    <tr>\n",
       "      <th>180732</th>\n",
       "      <td>19999987</td>\n",
       "      <td>23865745</td>\n",
       "      <td>2145-11-02</td>\n",
       "      <td>F</td>\n",
       "      <td>57</td>\n",
       "    </tr>\n",
       "  </tbody>\n",
       "</table>\n",
       "<p>180733 rows × 5 columns</p>\n",
       "</div>"
      ],
      "text/plain": [
       "        subject_id   hadm_id   admittime gender  anchor_age\n",
       "0         10000032  22595853  2180-05-06      F          52\n",
       "1         10000068  25022803  2160-03-03      F          19\n",
       "2         10000084  23052089  2160-11-21      M          72\n",
       "3         10000108  27250926  2163-09-27      M          25\n",
       "4         10000117  22927623  2181-11-15      F          48\n",
       "...            ...       ...         ...    ...         ...\n",
       "180728    19999733  27674281  2152-07-08      F          19\n",
       "180729    19999784  26194817  2119-06-18      M          57\n",
       "180730    19999828  29734428  2147-07-18      F          46\n",
       "180731    19999840  26071774  2164-07-25      M          58\n",
       "180732    19999987  23865745  2145-11-02      F          57\n",
       "\n",
       "[180733 rows x 5 columns]"
      ]
     },
     "execution_count": 31,
     "metadata": {},
     "output_type": "execute_result"
    }
   ],
   "source": [
    "df7"
   ]
  },
  {
   "cell_type": "code",
   "execution_count": 34,
   "id": "cdc2f4f8",
   "metadata": {},
   "outputs": [],
   "source": [
    "df7.to_csv(POST_PROCESS_PATH + \"selected_ids.csv\", index = False)"
   ]
  }
 ],
 "metadata": {
  "kernelspec": {
   "display_name": "Python 3 (ipykernel)",
   "language": "python",
   "name": "python3"
  },
  "language_info": {
   "codemirror_mode": {
    "name": "ipython",
    "version": 3
   },
   "file_extension": ".py",
   "mimetype": "text/x-python",
   "name": "python",
   "nbconvert_exporter": "python",
   "pygments_lexer": "ipython3",
   "version": "3.10.6"
  }
 },
 "nbformat": 4,
 "nbformat_minor": 5
}
