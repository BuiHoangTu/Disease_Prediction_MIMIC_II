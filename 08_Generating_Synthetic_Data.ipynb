{
 "cells": [
  {
   "cell_type": "code",
   "execution_count": null,
   "id": "1b28f2a4",
   "metadata": {},
   "outputs": [],
   "source": [
    "import pandas as pd\n",
    "# pip install sdv\n",
    "from sdv.tabular import CTGAN\n",
    "from ctgan import CTGANSynthesizer\n",
    "# !pip install table-evaluator\n",
    "from table_evaluator import load_data, TableEvaluator"
   ]
  },
  {
   "cell_type": "code",
   "execution_count": null,
   "id": "a7340eef",
   "metadata": {},
   "outputs": [],
   "source": [
    "model = CTGAN()"
   ]
  },
  {
   "cell_type": "code",
   "execution_count": null,
   "id": "557f92d4",
   "metadata": {},
   "outputs": [],
   "source": [
    "data = pd.read_csv(\"Data_for_SDV.csv\")"
   ]
  },
  {
   "cell_type": "code",
   "execution_count": null,
   "id": "6454a4bd",
   "metadata": {},
   "outputs": [],
   "source": [
    "df = data.copy()\n",
    "df.head()"
   ]
  },
  {
   "cell_type": "code",
   "execution_count": null,
   "id": "2c38212a",
   "metadata": {},
   "outputs": [],
   "source": [
    "df.shape"
   ]
  },
  {
   "cell_type": "code",
   "execution_count": null,
   "id": "f8dca572",
   "metadata": {},
   "outputs": [],
   "source": [
    "df.category.value_counts()"
   ]
  },
  {
   "cell_type": "code",
   "execution_count": null,
   "id": "91a81d38",
   "metadata": {},
   "outputs": [],
   "source": [
    "discrete_columns = ['sex' , 'age_at_adm', 'category']\n",
    "\n",
    "ctgan = CTGANSynthesizer(batch_size=50,epochs=50,verbose=False)\n",
    "\n",
    "ctgan.fit(df,discrete_columns)\n",
    "\n",
    "ctgan.save('ctgan-food-demand.pkl')\n",
    "\n",
    "# GEnerating 10000 synthetic observations\n",
    "samples = ctgan.sample(10000)"
   ]
  },
  {
   "cell_type": "code",
   "execution_count": null,
   "id": "a441a179",
   "metadata": {},
   "outputs": [],
   "source": [
    "samples.shape"
   ]
  },
  {
   "cell_type": "code",
   "execution_count": 1,
   "id": "98837d73",
   "metadata": {},
   "outputs": [],
   "source": [
    "from sdv.evaluation import evaluate\n",
    "evaluate(samples, df)\n",
    "\n",
    "# Our synthetic data is 88.13% similar to the original data\n",
    "# 0.8813462885042871\n",
    "\n",
    "# the similarity is considered good if it is between 70 to 90 %"
   ]
  },
  {
   "cell_type": "code",
   "execution_count": null,
   "id": "2495ae2a",
   "metadata": {},
   "outputs": [],
   "source": [
    "samples.to_csv(\"Synthetic_data_v2.csv\", index = False)"
   ]
  }
 ],
 "metadata": {
  "kernelspec": {
   "display_name": "Python 3 (ipykernel)",
   "language": "python",
   "name": "python3"
  },
  "language_info": {
   "codemirror_mode": {
    "name": "ipython",
    "version": 3
   },
   "file_extension": ".py",
   "mimetype": "text/x-python",
   "name": "python",
   "nbconvert_exporter": "python",
   "pygments_lexer": "ipython3",
   "version": "3.9.12"
  }
 },
 "nbformat": 4,
 "nbformat_minor": 5
}
